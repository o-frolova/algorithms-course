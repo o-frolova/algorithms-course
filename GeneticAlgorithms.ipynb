{
  "cells": [
    {
      "cell_type": "markdown",
      "metadata": {
        "id": "Wor1xoQUyB4K"
      },
      "source": [
        "# <b>Task:</b> Implementation of genetic algorithms for different problems (knapsack problem, travelling salesman problem)"
      ]
    },
    {
      "cell_type": "markdown",
      "metadata": {
        "id": "eY6AyGO7SDwN"
      },
      "source": [
        "Benchmarks for the backpack used are from the website:  https://tsplib95.readthedocs.io/en/stable/pages/usage.html (P01-P07)\n",
        "\n",
        "The TSP used as the TSP is the data from the website:  https://docs.yandex.ru/docs/view?tm=1652864571&tld=ru&lang=en&name=tsp95.pdf&text=LOWER%20DIAG%20ROW%20%D1%82%D0%B8%D0%BF%20%D1%87%D1%82%D0%BE%20%D0%B7%D0%BD%D0%B0%D1%87%D0%B8%D1%82&url=http%3A%2F%2Fcomopt.ifi.uni-heidelberg.de%2Fsoftware%2FTSPLIB95%2Ftsp95.pdf&lr=20037&mime=pdf&l10n=ru&sign=d927f06c318de460ad62e1fec476863d&keyno=0&nosw=1&serpParams=tm%3D1652864571%26tld%3Dru%26lang%3Den%26name%3Dtsp95.pdf%26text%3DLOWER%2BDIAG%2BROW%2B%25D1%2582%25D0%25B8%25D0%25BF%2B%25D1%2587%25D1%2582%25D0%25BE%2B%25D0%25B7%25D0%25BD%25D0%25B0%25D1%2587%25D0%25B8%25D1%2582%26url%3Dhttp%253A%2F%2Fcomopt.ifi.uni-heidelberg.de%2Fsoftware%2FTSPLIB95%2Ftsp95.pdf%26lr%3D20037%26mime%3Dpdf%26l10n%3Dru%26sign%3Dd927f06c318de460ad62e1fec476863d%26keyno%3D0%26nosw%3D1  (a280, att48, bays29, fl417, ch150, gr17)"
      ]
    },
    {
      "cell_type": "markdown",
      "metadata": {
        "id": "A0kR0DEhxgOf"
      },
      "source": [
        "## data reading + support functions"
      ]
    },
    {
      "cell_type": "code",
      "execution_count": null,
      "metadata": {
        "colab": {
          "base_uri": "https://localhost:8080/"
        },
        "id": "w2wmZSAkBfQ6",
        "outputId": "755c28b6-737e-4858-a010-ca73795ba928"
      },
      "outputs": [
        {
          "name": "stdout",
          "output_type": "stream",
          "text": [
            "Mounted at /content/drive\n"
          ]
        }
      ],
      "source": [
        "from google.colab import drive\n",
        "drive.mount('/content/drive')"
      ]
    },
    {
      "cell_type": "markdown",
      "metadata": {
        "id": "H3WKSACXYzyu"
      },
      "source": [
        "## knapsack problem"
      ]
    },
    {
      "cell_type": "code",
      "execution_count": null,
      "metadata": {
        "colab": {
          "base_uri": "https://localhost:8080/"
        },
        "id": "0l16683jDBfy",
        "outputId": "46d9df1e-97e2-4adf-82fe-eafbe2b5eb49"
      },
      "outputs": [
        {
          "name": "stdout",
          "output_type": "stream",
          "text": [
            "Archive:  /content/drive/MyDrive/knapsack_final.zip\n",
            "   creating: data_test/\n",
            "   creating: data_test/P01/\n",
            "  inflating: data_test/P01/p01_c.txt  \n",
            "  inflating: data_test/P01/p01_p.txt  \n",
            "  inflating: data_test/P01/p01_s.txt  \n",
            "  inflating: data_test/P01/p01_w.txt  \n",
            "   creating: data_test/P02/\n",
            "  inflating: data_test/P02/p02_c.txt  \n",
            "  inflating: data_test/P02/p02_p.txt  \n",
            "  inflating: data_test/P02/p02_s.txt  \n",
            "  inflating: data_test/P02/p02_w.txt  \n",
            "   creating: data_test/P03/\n",
            "  inflating: data_test/P03/p03_c.txt  \n",
            "  inflating: data_test/P03/p03_p.txt  \n",
            "  inflating: data_test/P03/p03_s.txt  \n",
            "  inflating: data_test/P03/p03_w.txt  \n",
            "   creating: data_test/P04/\n",
            "  inflating: data_test/P04/p04_c.txt  \n",
            "  inflating: data_test/P04/p04_p.txt  \n",
            "  inflating: data_test/P04/p04_s.txt  \n",
            "  inflating: data_test/P04/p04_w.txt  \n",
            "   creating: data_test/P05/\n",
            "  inflating: data_test/P05/p05_c.txt  \n",
            "  inflating: data_test/P05/p05_p.txt  \n",
            "  inflating: data_test/P05/p05_s.txt  \n",
            "  inflating: data_test/P05/p05_w.txt  \n",
            "   creating: data_test/P06/\n",
            "  inflating: data_test/P06/p06_c.txt  \n",
            "  inflating: data_test/P06/p06_p.txt  \n",
            "  inflating: data_test/P06/p06_s.txt  \n",
            "  inflating: data_test/P06/p06_w.txt  \n",
            "   creating: data_test/P07/\n",
            "  inflating: data_test/P07/p07_c.txt  \n",
            "  inflating: data_test/P07/p07_p.txt  \n",
            "  inflating: data_test/P07/p07_s.txt  \n",
            "  inflating: data_test/P07/p07_w.txt  \n"
          ]
        }
      ],
      "source": [
        "!unzip '/content/drive/MyDrive/knapsack_final.zip'"
      ]
    },
    {
      "cell_type": "code",
      "execution_count": null,
      "metadata": {
        "id": "pBvZhWqMBKzO"
      },
      "outputs": [],
      "source": [
        "import os\n",
        "def get_data_for_test_knap(path_folder):\n",
        "  weight = []\n",
        "  cost = []\n",
        "  answer = []\n",
        "  max_weight = 0\n",
        "  for filename in os.listdir(path_folder):\n",
        "    data_ = []\n",
        "    with open(os.path.join(path_folder, filename), 'r') as f:\n",
        "      for line in f:\n",
        "        data_.append(int(line))\n",
        "    if filename[-5] == 'c':\n",
        "      max_weight = data_\n",
        "    elif filename[-5] == 'p':\n",
        "      cost = data_\n",
        "    elif filename[-5] == 'w':\n",
        "      weight = data_\n",
        "    elif filename[-5] == 's':\n",
        "      answer = data_\n",
        "  print_data_for_test(max_weight, weight, cost, answer)\n",
        "  return max_weight, weight , cost, answer"
      ]
    },
    {
      "cell_type": "code",
      "execution_count": null,
      "metadata": {
        "id": "3E4z2j12zb2g"
      },
      "outputs": [],
      "source": [
        "def get_final_cost_weight(weight,cost, answer_indexes):\n",
        "  cost_f = 0\n",
        "  weight_f = 0\n",
        "  for i in range(len(answer_indexes)):\n",
        "    if answer_indexes[i] == 1:\n",
        "      cost_f += cost[i]\n",
        "      weight_f += weight[i]\n",
        "  return cost_f, weight_f"
      ]
    },
    {
      "cell_type": "code",
      "execution_count": null,
      "metadata": {
        "id": "CGnnsvgAHoIE"
      },
      "outputs": [],
      "source": [
        "def print_data_for_test(max_weight, weight, cost, answer):\n",
        "  print(\"ДАННЫЕ: \")\n",
        "  print(\"Объем рюкзака                 \", max_weight)\n",
        "  print(\"Веса объектов                 \", weight)\n",
        "  print(\"Ценность объектов             \", cost)\n",
        "  print(\"Оптимальное решение           \", answer)"
      ]
    },
    {
      "cell_type": "code",
      "execution_count": null,
      "metadata": {
        "id": "LkhBna9KbWeE"
      },
      "outputs": [],
      "source": [
        "import matplotlib.pyplot as plt\n",
        "\n",
        "\n",
        "def printItems(items):\n",
        "    for item in items:\n",
        "        print(\"Weight = \" + str(item.weight_) + \" | Cost = \" + str(item.cost_) + \" | State = \" + str(item.state_))\n",
        "\n",
        "\n",
        "def printGraphAnswerToOpt(optimum, data):\n",
        "    plt.title('Timed answer to optimum')\n",
        "    optimum_array = [optimum for _ in range(len(data))]\n",
        "    #time = [i for i in range(len(data))]\n",
        "    plt.plot(optimum_array)\n",
        "    plt.plot(data)\n",
        "    plt.show()\n",
        "\n",
        "\n",
        "def printTimeGraph(x, y):\n",
        "    plt.title('Average Time')\n",
        "    plt.plot(x, y)\n",
        "    #plt.xscale('log', base=10)\n",
        "    plt.show()\n",
        "\n",
        "\n",
        "def printAverageAnswerClear(x, y):\n",
        "    plt.title('Average Answer')\n",
        "    plt.plot(x, y)\n",
        "    #plt.xscale('log', base=10)\n",
        "    plt.show()\n"
      ]
    },
    {
      "cell_type": "code",
      "execution_count": null,
      "metadata": {
        "id": "LqzNKEQPbjWo"
      },
      "outputs": [],
      "source": [
        "class Gene:\n",
        "    def __init__(self, weight, cost, state):\n",
        "        self.weight_ = weight\n",
        "        self.cost_ = cost\n",
        "        self.state_ = state\n",
        "        self.coefficient_ = cost/weight\n",
        "\n",
        "    def getWeight(self):\n",
        "        return self.weight_\n",
        "\n",
        "    def getCost(self):\n",
        "        return self.cost_\n",
        "\n",
        "    def getState(self):\n",
        "        return self.state_\n",
        "\n",
        "    def getCoefficient(self):\n",
        "        return self.coefficient_\n",
        "\n"
      ]
    },
    {
      "cell_type": "code",
      "execution_count": null,
      "metadata": {
        "id": "Zxu-eUTZbmvn"
      },
      "outputs": [],
      "source": [
        "import random as rn\n",
        "\n",
        "\n",
        "class Chromosome:\n",
        "    def __init__(self, genes=None):\n",
        "        if genes is None:\n",
        "            genes = []\n",
        "        self.genes_ = genes\n",
        "\n",
        "    def calculateSuitability(self):\n",
        "        suitability = 0\n",
        "        for gene in self.genes_:\n",
        "            if gene.state_:\n",
        "                suitability += gene.cost_\n",
        "        return suitability\n",
        "\n",
        "    def calculateSumWeight(self):\n",
        "        weight = 0\n",
        "        for gene in self.genes_:\n",
        "            if gene.state_:\n",
        "                weight += gene.weight_\n",
        "        return weight\n",
        "\n",
        "    def shuffleGene(self, condition):\n",
        "        addedGenes = 0\n",
        "        while self.calculateSumWeight() <= condition and addedGenes != len(self.genes_):\n",
        "            geneId = rn.randint(0, len(self.genes_) - 1)\n",
        "            self.genes_[geneId].state_ = 1\n",
        "            if self.calculateSumWeight() > condition:\n",
        "                self.genes_[geneId].state_ = 0\n",
        "                break\n",
        "            addedGenes += 1\n",
        "        return self\n",
        "\n",
        "    def getGenes(self):\n",
        "        return self.genes_\n",
        "\n",
        "    def addGene(self, item):\n",
        "        self.genes_.append(item)\n"
      ]
    },
    {
      "cell_type": "code",
      "execution_count": null,
      "metadata": {
        "id": "7Zz16X-4bptF"
      },
      "outputs": [],
      "source": [
        "class Entity:\n",
        "    def __init__(self, chromosome):\n",
        "        self.chromosome_ = chromosome\n",
        "        self.suitability_ = self.chromosome_.calculateSuitability()\n",
        "        self.sumWeight_ = self.chromosome_.calculateSumWeight()\n",
        "\n",
        "    def getChromosome(self):\n",
        "        return self.chromosome_\n",
        "\n",
        "    def getSuitability(self):\n",
        "        return self.suitability_\n",
        "\n",
        "    def getSumWeight(self):\n",
        "        return self.sumWeight_\n"
      ]
    },
    {
      "cell_type": "code",
      "execution_count": null,
      "metadata": {
        "id": "5ci_ki1ubsTW"
      },
      "outputs": [],
      "source": [
        "class Population:\n",
        "    def __init__(self, condition=0, population=None):\n",
        "        if population is None:\n",
        "            population = []\n",
        "        self.population_ = population\n",
        "        self.condition_ = condition\n",
        "\n",
        "    def addEntity(self, entity):\n",
        "        self.population_.append(entity)\n",
        "\n",
        "    def getPopulation(self):\n",
        "        return self.population_\n",
        "\n",
        "    def checkAnswer(self):\n",
        "        for i in range(1, len(self.population_)):\n",
        "            if self.population_[i].getSumWeight() == \\\n",
        "                    self.population_[i - 1].getSumWeight() and \\\n",
        "                    self.population_[i].getSumWeight() == \\\n",
        "                    self.population_[i - 1].getSuitability():\n",
        "                continue\n",
        "            else:\n",
        "                return False\n",
        "        return True\n",
        "\n",
        "    def printPopulation(self):\n",
        "        for i in range(len(self.population_)):\n",
        "            print('\\n')\n",
        "            print(\"Entity = \" + str(i) + \" | SumWeight = \" + str(\n",
        "                self.population_[i].getSumWeight()) + \" | Suitability = \" + str(\n",
        "                self.population_[i].getSuitability()))\n",
        "            print(\"----------------------------------------------\")\n",
        "            items = self.population_[i].gene_.itemsChair_\n",
        "            printItems(items)\n",
        "\n",
        "    def printOneEntity(self, i):\n",
        "        print(\"Entity = \" + str(i) + \" | SumWeight = \" + str(\n",
        "            self.population_[i].getSumWeight()) + \" | Suitability = \" + str(\n",
        "            self.population_[i].getSuitability()))\n",
        "        print(\"----------------------------------------------\")\n",
        "        items = self.population_[i].gene_.genes_\n",
        "        printItems(items)\n",
        "\n",
        "    def checkCondition(self, sumWeight):\n",
        "        if sumWeight > self.condition_:\n",
        "            return False\n",
        "        else:\n",
        "            return True\n",
        "\n",
        "    def getCondition(self):\n",
        "        return self.condition_\n",
        "\n",
        "    def getResult(self):\n",
        "        return \"Max Suitability = \" + str(self.getMaxSuitability()[0])\n",
        "\n",
        "    def getMaxSuitability(self):\n",
        "        maxSuitability = 0\n",
        "        for entity in self.population_:\n",
        "            if entity.getSuitability() > maxSuitability:\n",
        "                maxSuitability = entity.getSuitability()\n",
        "                answer_entity = entity\n",
        "        return maxSuitability, answer_entity\n",
        "\n",
        "    def getAverageSuitability(self):\n",
        "        sumSuitability = 0\n",
        "        numberEntity = len(self.population_)\n",
        "        for entity in self.population_:\n",
        "            sumSuitability += entity.getSuitability()\n",
        "        return sumSuitability / numberEntity\n",
        "\n",
        "    def copy(self):\n",
        "        newPopulation = Population(self.condition_)\n",
        "        for entity in self.population_:\n",
        "            newPopulation.addEntity(entity)\n",
        "        return newPopulation\n"
      ]
    },
    {
      "cell_type": "code",
      "execution_count": null,
      "metadata": {
        "id": "R-6omG5dbx5Q"
      },
      "outputs": [],
      "source": [
        "import random as rn\n",
        "\n",
        "\n",
        "def mutation(chromosome, condition):\n",
        "    prob = rn.randint(0, 1000)\n",
        "    if prob < 10:\n",
        "        while True:\n",
        "            gene = chromosome.getGenes()[rn.randint(0, len(chromosome.getGenes()) - 1)]\n",
        "            if gene.state_ == 0:\n",
        "                gene.state_ = 1\n",
        "                if chromosome.calculateSumWeight() < condition:\n",
        "                    break\n",
        "                else:\n",
        "                    gene.state_ = 0\n",
        "            else:\n",
        "                gene.state_ = 0\n",
        "                if chromosome.calculateSumWeight() < condition:\n",
        "                    break\n",
        "\n",
        "\n",
        "def crossover(entityPair, condition):\n",
        "    geneLength = len(entityPair[0].getChromosome().getGenes())\n",
        "    breakPoint = rn.randint(1, geneLength-2)\n",
        "    genes = []\n",
        "    newChromosome = Chromosome(genes)\n",
        "    for i in range(breakPoint):\n",
        "        newGene = Gene(entityPair[0].getChromosome().getGenes()[i].getWeight(),\n",
        "                       entityPair[0].getChromosome().getGenes()[i].getCost(),\n",
        "                       entityPair[0].getChromosome().getGenes()[i].getState())\n",
        "\n",
        "        newChromosome.addGene(newGene)\n",
        "\n",
        "    for j in range(breakPoint, geneLength):\n",
        "        newGene = Gene(entityPair[1].getChromosome().getGenes()[j].getWeight(),\n",
        "                       entityPair[1].getChromosome().getGenes()[j].getCost(),\n",
        "                       entityPair[1].getChromosome().getGenes()[j].getState())\n",
        "\n",
        "        newChromosome.addGene(newGene)\n",
        "\n",
        "    sumWeight = newChromosome.calculateSumWeight()\n",
        "    i = 0\n",
        "    while condition < sumWeight and i < len(genes):\n",
        "        if newChromosome.genes_[i].state_ == 1:\n",
        "            newChromosome.genes_[i].state_ = 0\n",
        "            sumWeight -= newChromosome.genes_[i].getWeight()\n",
        "        i += 1\n",
        "\n",
        "    mutation(newChromosome, condition)\n",
        "    return newChromosome\n"
      ]
    },
    {
      "cell_type": "code",
      "execution_count": null,
      "metadata": {
        "id": "6HtD0W_hb5u2"
      },
      "outputs": [],
      "source": [
        "def generateFirstGeneration(items_data, entities_number, condition):\n",
        "    population = Population(condition)\n",
        "    i = 0\n",
        "    while i < entities_number:\n",
        "        newGenes = []\n",
        "        for item in items_data:\n",
        "            newGene = Gene(item.weight_, item.cost_, item.state_)\n",
        "            newGenes.append(newGene)\n",
        "        chromosome = Chromosome(newGenes).shuffleGene(condition)\n",
        "        entity = Entity(chromosome)\n",
        "        population.addEntity(entity)\n",
        "        i += 1\n",
        "    return population\n"
      ]
    },
    {
      "cell_type": "code",
      "execution_count": null,
      "metadata": {
        "id": "TdAr-iwhcpnE"
      },
      "outputs": [],
      "source": [
        "import random as rn\n",
        "\n",
        "\n",
        "def selection(population, best=True, random=False):\n",
        "    populationCopy = population.copy()\n",
        "    func = rn.randint(0, 2)\n",
        "    if func == 0:\n",
        "        search = binaryTournamentSelection\n",
        "    elif func == 1:\n",
        "        search = proportionalSelection\n",
        "    else:\n",
        "        search = sliceTournamentSelection\n",
        "\n",
        "    if random:\n",
        "        search = proportionalSelection\n",
        "\n",
        "    firstEntity = search(populationCopy, best)\n",
        "    populationCopy.getPopulation().remove(firstEntity)\n",
        "    secondEntity = search(populationCopy, best)\n",
        "    return [firstEntity, secondEntity]\n",
        "\n",
        "\n",
        "def binaryTournamentSelection(population, best=True):\n",
        "    choice = -1\n",
        "    if not best:\n",
        "        choice = 0\n",
        "\n",
        "    entityNumber = len(population.getPopulation())\n",
        "    firstEntity = rn.randint(0, entityNumber - 1)\n",
        "    secondEntity = rn.randint(0, entityNumber - 1)\n",
        "    while firstEntity == secondEntity:\n",
        "        secondEntity = rn.randint(0, entityNumber - 1)\n",
        "    pair = [population.getPopulation()[firstEntity], population.getPopulation()[secondEntity]]\n",
        "    return sorted(pair, key=lambda x: x.getSuitability())[choice]\n",
        "\n",
        "\n",
        "def sliceTournamentSelection(population_, best=True):\n",
        "    choice = -1\n",
        "    if not best:\n",
        "        choice = 0\n",
        "\n",
        "    population = population_.getPopulation()\n",
        "    if len(population) == 1:\n",
        "        return population[0]\n",
        "\n",
        "    startOffset = 0\n",
        "    endOffset = 1\n",
        "    if len(population) >= 3:\n",
        "        startOffset = rn.randint(0, int(len(population) / 2 - 1))\n",
        "        endOffset = rn.randint(startOffset + 1, len(population) - 1)\n",
        "\n",
        "    best_entity = sorted(population[startOffset: endOffset], key=lambda x: x.getSuitability())[choice]\n",
        "    return best_entity\n",
        "\n",
        "\n",
        "def proportionalSelection(population, best=True):\n",
        "    wheelOfFortune = []\n",
        "    population_array = population.getPopulation()\n",
        "    if len(population_array) == 1:\n",
        "        return population_array[0]\n",
        "    else:\n",
        "        wheelOfFortune.append(population_array[0].getSuitability())\n",
        "\n",
        "    for i in range(1, len(population_array)):\n",
        "        wheelOfFortune.append(population_array[i].getSuitability() + wheelOfFortune[i-1])\n",
        "\n",
        "    randomSuitability = rn.randint(0, wheelOfFortune[-1])\n",
        "    i = 0\n",
        "    while randomSuitability > wheelOfFortune[i]:\n",
        "        i += 1\n",
        "    return population_array[i]\n"
      ]
    },
    {
      "cell_type": "code",
      "execution_count": null,
      "metadata": {
        "id": "lMTNlzrZc-pL"
      },
      "outputs": [],
      "source": [
        "import random\n",
        "\n",
        "\n",
        "def generationChange(population, statistic):\n",
        "    newPopulation = Population(population.getCondition())\n",
        "    entityNumber = len(population.getPopulation())\n",
        "    oldEntityNumber = int(entityNumber * 0.1)\n",
        "    i = 0\n",
        "    populationCopy = population.copy()\n",
        "    # Best entity\n",
        "    while i < int((entityNumber - oldEntityNumber) * 0.7):\n",
        "        pair = selection(populationCopy, True)\n",
        "        newGene = crossover(pair, population.getCondition())\n",
        "        newEntity = Entity(newGene)\n",
        "        newPopulation.addEntity(newEntity)\n",
        "        entityForRemove = random.randint(0, 1)\n",
        "        populationCopy.getPopulation().remove(pair[entityForRemove])\n",
        "        i += 1\n",
        "\n",
        "    # The worst\n",
        "    while i < int((entityNumber - oldEntityNumber) * 0.8):\n",
        "        pair = selection(populationCopy, False)\n",
        "        newGene = crossover(pair, population.getCondition())\n",
        "        newEntity = Entity(newGene)\n",
        "        newPopulation.addEntity(newEntity)\n",
        "        entityForRemove = random.randint(0, 1)\n",
        "        populationCopy.getPopulation().remove(pair[entityForRemove])\n",
        "        i += 1\n",
        "\n",
        "    # Random\n",
        "    while i < int((entityNumber - oldEntityNumber) * 0.9):\n",
        "        pair = selection(populationCopy, False, True)\n",
        "        newGene = crossover(pair, population.getCondition())\n",
        "        newEntity = Entity(newGene)\n",
        "        newPopulation.addEntity(newEntity)\n",
        "        entityForRemove = random.randint(0, 1)\n",
        "        populationCopy.getPopulation().remove(pair[entityForRemove])\n",
        "        i += 1\n",
        "\n",
        "    # Best oldies\n",
        "    while i < entityNumber:\n",
        "        oldEntity = binaryTournamentSelection(population)\n",
        "        newPopulation.addEntity(oldEntity)\n",
        "        population.population_.remove(oldEntity)\n",
        "        i += 1\n",
        "\n",
        "    #statistic.append(newPopulation.getMaxSuitability())\n",
        "    #statistic.append(newPopulation.getAverageSuitability())\n",
        "    return newPopulation\n"
      ]
    },
    {
      "cell_type": "code",
      "execution_count": null,
      "metadata": {
        "id": "rBRSN6Yfj2hh"
      },
      "outputs": [],
      "source": [
        "class Backpack:\n",
        "  def __init__(self, max_weight, answer, cost_a, weight_a):\n",
        "    self.condition = max_weight[0]\n",
        "    self.answer = get_final_cost_weight(weight_a, cost_a, answer)[0]\n",
        "    self.items = []\n",
        "    for i in range(len(cost_a)):\n",
        "      self.items.append(Gene(weight_a[i], cost_a[i], 0))"
      ]
    },
    {
      "cell_type": "code",
      "execution_count": null,
      "metadata": {
        "id": "15R1Gra2k0Lc"
      },
      "outputs": [],
      "source": [
        "def getBackpacks():\n",
        "  backpacks = []\n",
        "  path = \"data_test/P0\"\n",
        "  for i in range(1, 8):\n",
        "      max_weight, weight , cost, answer = get_data_for_test_knap(path + str(i) + \"/\")\n",
        "      backpacks.append(Backpack(max_weight, answer, cost, weight))\n",
        "  return backpacks"
      ]
    },
    {
      "cell_type": "code",
      "execution_count": null,
      "metadata": {
        "colab": {
          "base_uri": "https://localhost:8080/",
          "height": 1000
        },
        "id": "zw8lF215ddaT",
        "outputId": "6116f6d2-db65-4bf1-a345-0dd900ad7cea"
      },
      "outputs": [
        {
          "name": "stdout",
          "output_type": "stream",
          "text": [
            "ДАННЫЕ: \n",
            "Объем рюкзака                  [165]\n",
            "Веса объектов                  [23, 31, 29, 44, 53, 38, 63, 85, 89, 82]\n",
            "Ценность объектов              [92, 57, 49, 68, 60, 43, 67, 84, 87, 72]\n",
            "Оптимальное решение            [1, 1, 1, 1, 0, 1, 0, 0, 0, 0]\n",
            "ДАННЫЕ: \n",
            "Объем рюкзака                  [26]\n",
            "Веса объектов                  [12, 7, 11, 8, 9]\n",
            "Ценность объектов              [24, 13, 23, 15, 16]\n",
            "Оптимальное решение            [0, 1, 1, 1, 0]\n",
            "ДАННЫЕ: \n",
            "Объем рюкзака                  [190]\n",
            "Веса объектов                  [56, 59, 80, 64, 75, 17]\n",
            "Ценность объектов              [50, 50, 64, 46, 50, 5]\n",
            "Оптимальное решение            [1, 1, 0, 0, 1, 0]\n",
            "ДАННЫЕ: \n",
            "Объем рюкзака                  [50]\n",
            "Веса объектов                  [31, 10, 20, 19, 4, 3, 6]\n",
            "Ценность объектов              [70, 20, 39, 37, 7, 5, 10]\n",
            "Оптимальное решение            [1, 0, 0, 1, 0, 0, 0]\n",
            "ДАННЫЕ: \n",
            "Объем рюкзака                  [104]\n",
            "Веса объектов                  [25, 35, 45, 5, 25, 3, 2, 2]\n",
            "Ценность объектов              [350, 400, 450, 20, 70, 8, 5, 5]\n",
            "Оптимальное решение            [1, 0, 1, 1, 1, 0, 1, 1]\n",
            "ДАННЫЕ: \n",
            "Объем рюкзака                  [170]\n",
            "Веса объектов                  [41, 50, 49, 59, 55, 57, 60]\n",
            "Ценность объектов              [442, 525, 511, 593, 546, 564, 617]\n",
            "Оптимальное решение            [0, 1, 0, 1, 0, 0, 1]\n",
            "ДАННЫЕ: \n",
            "Объем рюкзака                  [750]\n",
            "Веса объектов                  [70, 73, 77, 80, 82, 87, 90, 94, 98, 106, 110, 113, 115, 118, 120]\n",
            "Ценность объектов              [135, 139, 149, 150, 156, 163, 173, 184, 192, 201, 210, 214, 221, 229, 240]\n",
            "Оптимальное решение            [1, 0, 1, 0, 1, 0, 1, 1, 1, 0, 0, 0, 0, 1, 1]\n",
            "Answer = 309\n",
            "Condition = 165\n",
            "\n",
            "--------------------------------------\n",
            "Max Suitability = 309\n",
            "--------------------------------------\n",
            "\n",
            "Weight = 82 | Cost = 72 | State = 0\n",
            "Weight = 89 | Cost = 87 | State = 0\n",
            "Weight = 85 | Cost = 84 | State = 0\n",
            "Weight = 63 | Cost = 67 | State = 0\n",
            "Weight = 38 | Cost = 43 | State = 1\n",
            "Weight = 53 | Cost = 60 | State = 0\n",
            "Weight = 44 | Cost = 68 | State = 1\n",
            "Weight = 29 | Cost = 49 | State = 1\n",
            "Weight = 31 | Cost = 57 | State = 1\n",
            "Weight = 23 | Cost = 92 | State = 1\n",
            "Answer = 51\n",
            "Condition = 26\n",
            "\n",
            "--------------------------------------\n",
            "Max Suitability = 51\n",
            "--------------------------------------\n",
            "\n",
            "Weight = 9 | Cost = 16 | State = 0\n",
            "Weight = 7 | Cost = 13 | State = 1\n",
            "Weight = 8 | Cost = 15 | State = 1\n",
            "Weight = 12 | Cost = 24 | State = 0\n",
            "Weight = 11 | Cost = 23 | State = 1\n",
            "Answer = 150\n",
            "Condition = 190\n",
            "\n",
            "--------------------------------------\n",
            "Max Suitability = 150\n",
            "--------------------------------------\n",
            "\n",
            "Weight = 17 | Cost = 5 | State = 0\n",
            "Weight = 75 | Cost = 50 | State = 1\n",
            "Weight = 64 | Cost = 46 | State = 0\n",
            "Weight = 80 | Cost = 64 | State = 0\n",
            "Weight = 59 | Cost = 50 | State = 1\n",
            "Weight = 56 | Cost = 50 | State = 1\n",
            "Answer = 107\n",
            "Condition = 50\n",
            "\n",
            "--------------------------------------\n",
            "Max Suitability = 107\n",
            "--------------------------------------\n",
            "\n",
            "Weight = 3 | Cost = 5 | State = 0\n",
            "Weight = 6 | Cost = 10 | State = 0\n",
            "Weight = 4 | Cost = 7 | State = 0\n",
            "Weight = 19 | Cost = 37 | State = 1\n",
            "Weight = 20 | Cost = 39 | State = 0\n",
            "Weight = 10 | Cost = 20 | State = 0\n",
            "Weight = 31 | Cost = 70 | State = 1\n",
            "Answer = 900\n",
            "Condition = 104\n",
            "\n",
            "--------------------------------------\n",
            "Max Suitability = 900\n",
            "--------------------------------------\n",
            "\n",
            "Weight = 2 | Cost = 5 | State = 1\n",
            "Weight = 2 | Cost = 5 | State = 1\n",
            "Weight = 3 | Cost = 8 | State = 0\n",
            "Weight = 25 | Cost = 70 | State = 1\n",
            "Weight = 5 | Cost = 20 | State = 1\n",
            "Weight = 45 | Cost = 450 | State = 1\n",
            "Weight = 35 | Cost = 400 | State = 0\n",
            "Weight = 25 | Cost = 350 | State = 1\n",
            "Answer = 1735\n",
            "Condition = 170\n",
            "\n",
            "--------------------------------------\n",
            "Max Suitability = 1735\n",
            "--------------------------------------\n",
            "\n",
            "Weight = 57 | Cost = 564 | State = 0\n",
            "Weight = 55 | Cost = 546 | State = 0\n",
            "Weight = 59 | Cost = 593 | State = 1\n",
            "Weight = 60 | Cost = 617 | State = 1\n",
            "Weight = 49 | Cost = 511 | State = 0\n",
            "Weight = 50 | Cost = 525 | State = 1\n",
            "Weight = 41 | Cost = 442 | State = 0\n",
            "Answer = 1458\n",
            "Condition = 750\n",
            "\n",
            "--------------------------------------\n",
            "Max Suitability = 1458\n",
            "--------------------------------------\n",
            "\n",
            "Weight = 87 | Cost = 163 | State = 0\n",
            "Weight = 80 | Cost = 150 | State = 0\n",
            "Weight = 113 | Cost = 214 | State = 0\n",
            "Weight = 106 | Cost = 201 | State = 0\n",
            "Weight = 82 | Cost = 156 | State = 1\n",
            "Weight = 73 | Cost = 139 | State = 0\n",
            "Weight = 110 | Cost = 210 | State = 0\n",
            "Weight = 115 | Cost = 221 | State = 0\n",
            "Weight = 90 | Cost = 173 | State = 1\n",
            "Weight = 70 | Cost = 135 | State = 1\n",
            "Weight = 77 | Cost = 149 | State = 1\n",
            "Weight = 118 | Cost = 229 | State = 1\n",
            "Weight = 94 | Cost = 184 | State = 1\n",
            "Weight = 98 | Cost = 192 | State = 1\n",
            "Weight = 120 | Cost = 240 | State = 1\n",
            "[0.07753682136535645, 0.0616612434387207, 0.06848812103271484, 0.059851884841918945, 0.13825321197509766, 0.07020068168640137, 0.09503984451293945]\n",
            "[1.0, 1.0, 1.0, 1.0, 1.0, 1.0, 1.0]\n"
          ]
        },
        {
          "data": {
            "image/png": "[encoded data removed]",
            "text/plain": [
              "<Figure size 432x288 with 1 Axes>"
            ]
          },
          "metadata": {},
          "output_type": "display_data"
        },
        {
          "data": {
            "image/png": "[encoded data removed]",
            "text/plain": [
              "<Figure size 432x288 with 1 Axes>"
            ]
          },
          "metadata": {},
          "output_type": "display_data"
        }
      ],
      "source": [
        "import random as rn\n",
        "import time\n",
        "\n",
        "\n",
        "backpacks = getBackpacks()\n",
        "entity_num = 100\n",
        "Tm = 10\n",
        "condition_array_x = []\n",
        "condition_array_y = []\n",
        "time_array_x = []\n",
        "time_array_y = []\n",
        "\n",
        "\n",
        "for backpack in backpacks:\n",
        "      for i in range(100):\n",
        "        start = time.time()\n",
        "        data = sorted(backpack.items[:], key=lambda x: x.getCoefficient())\n",
        "        print(\"Answer = \" + str(backpack.answer))\n",
        "        print(\"Condition = \" + str(backpack.condition))\n",
        "        population = generateFirstGeneration(data, entity_num, backpack.condition)\n",
        "        statistic = []\n",
        "        for generationNumber in range(Tm):\n",
        "            population = generationChange(population, statistic)\n",
        "        time_array_y.append(time.time() - start)\n",
        "        print(\"\\n--------------------------------------\\n\" + population.getResult() + \"\\n--------------------------------------\\n\")\n",
        "        optimum = backpack.answer\n",
        "        answer, entity = population.getMaxSuitability()\n",
        "        if i == 0:\n",
        "          printItems(entity.getChromosome().getGenes())\n",
        "        #printGraphAnswerToOpt(answer, statistic)\n",
        "      time_array_x.append(i)\n",
        "      condition_array_x.append(i)\n",
        "      condition_array_y.append(answer/optimum)\n",
        "\n",
        "\n",
        "print(time_array_y)\n",
        "print(condition_array_y)\n",
        "printTimeGraph(time_array_x, time_array_y)\n",
        "printAverageAnswerClear(condition_array_x, condition_array_y)\n"
      ]
    },
    {
      "cell_type": "markdown",
      "metadata": {
        "id": "SGVSgW5Jv5RV"
      },
      "source": [
        "Slower in time, but with convergence dynamics"
      ]
    },
    {
      "cell_type": "code",
      "execution_count": null,
      "metadata": {
        "colab": {
          "base_uri": "https://localhost:8080/",
          "height": 1000
        },
        "id": "9vxp1CPAv3_a",
        "outputId": "c0b217b5-45e5-48ed-eb25-545218859769"
      },
      "outputs": [
        {
          "name": "stdout",
          "output_type": "stream",
          "text": [
            "ДАННЫЕ: \n",
            "Объем рюкзака                  [165]\n",
            "Веса объектов                  [23, 31, 29, 44, 53, 38, 63, 85, 89, 82]\n",
            "Ценность объектов              [92, 57, 49, 68, 60, 43, 67, 84, 87, 72]\n",
            "Оптимальное решение            [1, 1, 1, 1, 0, 1, 0, 0, 0, 0]\n",
            "ДАННЫЕ: \n",
            "Объем рюкзака                  [26]\n",
            "Веса объектов                  [12, 7, 11, 8, 9]\n",
            "Ценность объектов              [24, 13, 23, 15, 16]\n",
            "Оптимальное решение            [0, 1, 1, 1, 0]\n",
            "ДАННЫЕ: \n",
            "Объем рюкзака                  [190]\n",
            "Веса объектов                  [56, 59, 80, 64, 75, 17]\n",
            "Ценность объектов              [50, 50, 64, 46, 50, 5]\n",
            "Оптимальное решение            [1, 1, 0, 0, 1, 0]\n",
            "ДАННЫЕ: \n",
            "Объем рюкзака                  [50]\n",
            "Веса объектов                  [31, 10, 20, 19, 4, 3, 6]\n",
            "Ценность объектов              [70, 20, 39, 37, 7, 5, 10]\n",
            "Оптимальное решение            [1, 0, 0, 1, 0, 0, 0]\n",
            "ДАННЫЕ: \n",
            "Объем рюкзака                  [104]\n",
            "Веса объектов                  [25, 35, 45, 5, 25, 3, 2, 2]\n",
            "Ценность объектов              [350, 400, 450, 20, 70, 8, 5, 5]\n",
            "Оптимальное решение            [1, 0, 1, 1, 1, 0, 1, 1]\n",
            "ДАННЫЕ: \n",
            "Объем рюкзака                  [170]\n",
            "Веса объектов                  [41, 50, 49, 59, 55, 57, 60]\n",
            "Ценность объектов              [442, 525, 511, 593, 546, 564, 617]\n",
            "Оптимальное решение            [0, 1, 0, 1, 0, 0, 1]\n",
            "ДАННЫЕ: \n",
            "Объем рюкзака                  [750]\n",
            "Веса объектов                  [70, 73, 77, 80, 82, 87, 90, 94, 98, 106, 110, 113, 115, 118, 120]\n",
            "Ценность объектов              [135, 139, 149, 150, 156, 163, 173, 184, 192, 201, 210, 214, 221, 229, 240]\n",
            "Оптимальное решение            [1, 0, 1, 0, 1, 0, 1, 1, 1, 0, 0, 0, 0, 1, 1]\n",
            "Answer = 309\n",
            "Condition = 165\n",
            "\n",
            "--------------------------------------\n",
            "Max Suitability = 309\n",
            "--------------------------------------\n",
            "\n",
            "Weight = 82 | Cost = 72 | State = 0\n",
            "Weight = 89 | Cost = 87 | State = 0\n",
            "Weight = 85 | Cost = 84 | State = 0\n",
            "Weight = 63 | Cost = 67 | State = 0\n",
            "Weight = 38 | Cost = 43 | State = 1\n",
            "Weight = 53 | Cost = 60 | State = 0\n",
            "Weight = 44 | Cost = 68 | State = 1\n",
            "Weight = 29 | Cost = 49 | State = 1\n",
            "Weight = 31 | Cost = 57 | State = 1\n",
            "Weight = 23 | Cost = 92 | State = 1\n"
          ]
        },
        {
          "data": {
            "image/png": "[encoded data removed]",
            "text/plain": [
              "<Figure size 432x288 with 1 Axes>"
            ]
          },
          "metadata": {},
          "output_type": "display_data"
        },
        {
          "data": {
            "image/png": "[encoded data removed]",
            "text/plain": [
              "<Figure size 432x288 with 1 Axes>"
            ]
          },
          "metadata": {},
          "output_type": "display_data"
        },
        {
          "name": "stdout",
          "output_type": "stream",
          "text": [
            "Answer = 51\n",
            "Condition = 26\n",
            "\n",
            "--------------------------------------\n",
            "Max Suitability = 51\n",
            "--------------------------------------\n",
            "\n",
            "Weight = 9 | Cost = 16 | State = 0\n",
            "Weight = 7 | Cost = 13 | State = 1\n",
            "Weight = 8 | Cost = 15 | State = 1\n",
            "Weight = 12 | Cost = 24 | State = 0\n",
            "Weight = 11 | Cost = 23 | State = 1\n"
          ]
        },
        {
          "data": {
            "image/png": "[encoded data removed]",
            "text/plain": [
              "<Figure size 432x288 with 1 Axes>"
            ]
          },
          "metadata": {},
          "output_type": "display_data"
        },
        {
          "data": {
            "image/png": "[encoded data removed]",
            "text/plain": [
              "<Figure size 432x288 with 1 Axes>"
            ]
          },
          "metadata": {},
          "output_type": "display_data"
        },
        {
          "name": "stdout",
          "output_type": "stream",
          "text": [
            "Answer = 150\n",
            "Condition = 190\n",
            "\n",
            "--------------------------------------\n",
            "Max Suitability = 150\n",
            "--------------------------------------\n",
            "\n",
            "Weight = 17 | Cost = 5 | State = 0\n",
            "Weight = 75 | Cost = 50 | State = 1\n",
            "Weight = 64 | Cost = 46 | State = 0\n",
            "Weight = 80 | Cost = 64 | State = 0\n",
            "Weight = 59 | Cost = 50 | State = 1\n",
            "Weight = 56 | Cost = 50 | State = 1\n"
          ]
        },
        {
          "data": {
            "image/png": "[encoded data removed]",
            "text/plain": [
              "<Figure size 432x288 with 1 Axes>"
            ]
          },
          "metadata": {},
          "output_type": "display_data"
        },
        {
          "data": {
            "image/png": "[encoded data removed]",
            "text/plain": [
              "<Figure size 432x288 with 1 Axes>"
            ]
          },
          "metadata": {},
          "output_type": "display_data"
        },
        {
          "name": "stdout",
          "output_type": "stream",
          "text": [
            "Answer = 107\n",
            "Condition = 50\n",
            "\n",
            "--------------------------------------\n",
            "Max Suitability = 107\n",
            "--------------------------------------\n",
            "\n",
            "Weight = 3 | Cost = 5 | State = 0\n",
            "Weight = 6 | Cost = 10 | State = 0\n",
            "Weight = 4 | Cost = 7 | State = 0\n",
            "Weight = 19 | Cost = 37 | State = 1\n",
            "Weight = 20 | Cost = 39 | State = 0\n",
            "Weight = 10 | Cost = 20 | State = 0\n",
            "Weight = 31 | Cost = 70 | State = 1\n"
          ]
        },
        {
          "data": {
            "image/png": "[encoded data removed]",
            "text/plain": [
              "<Figure size 432x288 with 1 Axes>"
            ]
          },
          "metadata": {},
          "output_type": "display_data"
        },
        {
          "data": {
            "image/png": "[encoded data removed]",
            "text/plain": [
              "<Figure size 432x288 with 1 Axes>"
            ]
          },
          "metadata": {},
          "output_type": "display_data"
        },
        {
          "name": "stdout",
          "output_type": "stream",
          "text": [
            "Answer = 900\n",
            "Condition = 104\n",
            "\n",
            "--------------------------------------\n",
            "Max Suitability = 900\n",
            "--------------------------------------\n",
            "\n",
            "Weight = 2 | Cost = 5 | State = 1\n",
            "Weight = 2 | Cost = 5 | State = 1\n",
            "Weight = 3 | Cost = 8 | State = 0\n",
            "Weight = 25 | Cost = 70 | State = 1\n",
            "Weight = 5 | Cost = 20 | State = 1\n",
            "Weight = 45 | Cost = 450 | State = 1\n",
            "Weight = 35 | Cost = 400 | State = 0\n",
            "Weight = 25 | Cost = 350 | State = 1\n"
          ]
        },
        {
          "data": {
            "image/png": "[encoded data removed]",
            "text/plain": [
              "<Figure size 432x288 with 1 Axes>"
            ]
          },
          "metadata": {},
          "output_type": "display_data"
        },
        {
          "data": {
            "image/png": "[encoded data removed]",
            "text/plain": [
              "<Figure size 432x288 with 1 Axes>"
            ]
          },
          "metadata": {},
          "output_type": "display_data"
        },
        {
          "name": "stdout",
          "output_type": "stream",
          "text": [
            "Answer = 1735\n",
            "Condition = 170\n",
            "\n",
            "--------------------------------------\n",
            "Max Suitability = 1735\n",
            "--------------------------------------\n",
            "\n",
            "Weight = 57 | Cost = 564 | State = 0\n",
            "Weight = 55 | Cost = 546 | State = 0\n",
            "Weight = 59 | Cost = 593 | State = 1\n",
            "Weight = 60 | Cost = 617 | State = 1\n",
            "Weight = 49 | Cost = 511 | State = 0\n",
            "Weight = 50 | Cost = 525 | State = 1\n",
            "Weight = 41 | Cost = 442 | State = 0\n"
          ]
        },
        {
          "data": {
            "image/png": "[encoded data removed]",
            "text/plain": [
              "<Figure size 432x288 with 1 Axes>"
            ]
          },
          "metadata": {},
          "output_type": "display_data"
        },
        {
          "data": {
            "image/png": "[encoded data removed]",
            "text/plain": [
              "<Figure size 432x288 with 1 Axes>"
            ]
          },
          "metadata": {},
          "output_type": "display_data"
        },
        {
          "name": "stdout",
          "output_type": "stream",
          "text": [
            "Answer = 1458\n",
            "Condition = 750\n",
            "\n",
            "--------------------------------------\n",
            "Max Suitability = 1458\n",
            "--------------------------------------\n",
            "\n",
            "Weight = 87 | Cost = 163 | State = 0\n",
            "Weight = 80 | Cost = 150 | State = 0\n",
            "Weight = 113 | Cost = 214 | State = 0\n",
            "Weight = 106 | Cost = 201 | State = 0\n",
            "Weight = 82 | Cost = 156 | State = 1\n",
            "Weight = 73 | Cost = 139 | State = 0\n",
            "Weight = 110 | Cost = 210 | State = 0\n",
            "Weight = 115 | Cost = 221 | State = 0\n",
            "Weight = 90 | Cost = 173 | State = 1\n",
            "Weight = 70 | Cost = 135 | State = 1\n",
            "Weight = 77 | Cost = 149 | State = 1\n",
            "Weight = 118 | Cost = 229 | State = 1\n",
            "Weight = 94 | Cost = 184 | State = 1\n",
            "Weight = 98 | Cost = 192 | State = 1\n",
            "Weight = 120 | Cost = 240 | State = 1\n"
          ]
        },
        {
          "data": {
            "image/png": "[encoded data removed]",
            "text/plain": [
              "<Figure size 432x288 with 1 Axes>"
            ]
          },
          "metadata": {},
          "output_type": "display_data"
        },
        {
          "data": {
            "image/png": "[encoded data removed]",
            "text/plain": [
              "<Figure size 432x288 with 1 Axes>"
            ]
          },
          "metadata": {},
          "output_type": "display_data"
        }
      ],
      "source": [
        "import random as rn\n",
        "import time\n",
        "\n",
        "backpacks = getBackpacks()\n",
        "entity_num = 100\n",
        "Tm = 10\n",
        "condition_array_x = []\n",
        "condition_array_y = []\n",
        "time_array_x = []\n",
        "time_array_y = []\n",
        "\n",
        "i = 1\n",
        "for backpack in backpacks:\n",
        "      start = time.time()\n",
        "      data = sorted(backpack.items[:], key=lambda x: x.getCoefficient())\n",
        "      print(\"Answer = \" + str(backpack.answer))\n",
        "      print(\"Condition = \" + str(backpack.condition))\n",
        "      population = generateFirstGeneration(data, entity_num, backpack.condition)\n",
        "      statistic = []\n",
        "      statistic_average = []\n",
        "      for generationNumber in range(Tm):\n",
        "          population = generationChange(population, statistic)\n",
        "          statistic.append(population.getMaxSuitability()[0])\n",
        "          statistic_average.append(population.getAverageSuitability())\n",
        "      time_array_y.append(time.time() - start)\n",
        "      print(\"\\n--------------------------------------\\n\" + population.getResult() + \"\\n--------------------------------------\\n\")\n",
        "      optimum = backpack.answer\n",
        "      answer, entity = population.getMaxSuitability()\n",
        "      printItems(entity.getChromosome().getGenes())\n",
        "      printGraphAnswerToOpt(answer, statistic)\n",
        "      printGraphAnswerToOpt(answer, statistic_average)\n",
        "      time_array_x.append(i)\n",
        "      condition_array_x.append(i)\n",
        "      condition_array_y.append(answer/optimum)\n",
        "      i += 1"
      ]
    },
    {
      "cell_type": "markdown",
      "metadata": {
        "id": "N2K-zu7y-fLn"
      },
      "source": [
        "neural net"
      ]
    },
    {
      "cell_type": "code",
      "execution_count": null,
      "metadata": {
        "id": "wbNPFI9N-h1d"
      },
      "outputs": [],
      "source": [
        "import numpy as np\n",
        "\n",
        "\n",
        "def g(x, T_):\n",
        "    return 0.5 * (1 + np.tanh(x/T_))\n",
        "\n",
        "\n",
        "def getDifference(x):\n",
        "    if x <= 0:\n",
        "        return 0\n",
        "    else:\n",
        "        return x\n",
        "\n",
        "\n",
        "def generationChange2(v, a, items, T_, condition_, statistic_):\n",
        "    x = 0\n",
        "    for i_ in range(len(v)):\n",
        "        x += items[i_].getWeight() * v[i_]\n",
        "\n",
        "    for k in range(len(v)):\n",
        "        x -= items[k].getWeight() * v[k]\n",
        "        x1 = x + items[k].getWeight() - condition_\n",
        "        x2 = x - condition_\n",
        "\n",
        "        vk = items[k].getCost() - a * ((x1 * getDifference(x1))-(x2 * getDifference(x2)))\n",
        "        v[k] = g(vk, T_)\n",
        "        x += items[k].getWeight() * v[k]\n",
        "\n",
        "    statistic_.append(decodeAnswer_2(v.copy(), items)[0])\n",
        "    return v\n",
        "\n",
        "\n",
        "def decodeAnswer(vector, data):\n",
        "    m_answer = 0\n",
        "    m_weight = 0\n",
        "    for i in range(len(vector)):\n",
        "        vector[i] = int(vector[i])\n",
        "        if vector[i] == 1:\n",
        "            m_answer += data[i].getCost()\n",
        "            m_weight += data[i].getWeight()\n",
        "    return m_answer, m_weight\n",
        "\n",
        "\n",
        "def decodeAnswer_2(vector, data):\n",
        "    m_answer = 0\n",
        "    m_weight = 0\n",
        "    for i in range(len(vector)):\n",
        "        if round(vector[i],2) > 0.90:\n",
        "          #print(vector[i])\n",
        "          m_answer += data[i].getCost()\n",
        "          m_weight += data[i].getWeight()\n",
        "    return m_answer, m_weight\n",
        "\n",
        "\n",
        "\n",
        "\n",
        "def getSaturation(v):\n",
        "    saturation = 0.0\n",
        "    for vi in v:\n",
        "        saturation += (vi - 0.5) ** 2\n",
        "    return (4.0 / len(v)) * saturation\n",
        "\n",
        "\n",
        "def getEvolutionRate(v, v_old):\n",
        "    evoRate = 0.0\n",
        "    for i in range(len(v)):\n",
        "        evoRate += (v[i] - v_old[i]) ** 2\n",
        "    return (10.0/len(v)) * evoRate\n",
        "\n"
      ]
    },
    {
      "cell_type": "code",
      "execution_count": null,
      "metadata": {
        "colab": {
          "base_uri": "https://localhost:8080/",
          "height": 1000
        },
        "id": "dylcfFdH-m4p",
        "outputId": "c8cd80f3-9b56-4121-a316-bbb821695eb3"
      },
      "outputs": [
        {
          "name": "stdout",
          "output_type": "stream",
          "text": [
            "ДАННЫЕ: \n",
            "Объем рюкзака                  [165]\n",
            "Веса объектов                  [23, 31, 29, 44, 53, 38, 63, 85, 89, 82]\n",
            "Ценность объектов              [92, 57, 49, 68, 60, 43, 67, 84, 87, 72]\n",
            "Оптимальное решение            [1, 1, 1, 1, 0, 1, 0, 0, 0, 0]\n",
            "ДАННЫЕ: \n",
            "Объем рюкзака                  [26]\n",
            "Веса объектов                  [12, 7, 11, 8, 9]\n",
            "Ценность объектов              [24, 13, 23, 15, 16]\n",
            "Оптимальное решение            [0, 1, 1, 1, 0]\n",
            "ДАННЫЕ: \n",
            "Объем рюкзака                  [190]\n",
            "Веса объектов                  [56, 59, 80, 64, 75, 17]\n",
            "Ценность объектов              [50, 50, 64, 46, 50, 5]\n",
            "Оптимальное решение            [1, 1, 0, 0, 1, 0]\n",
            "ДАННЫЕ: \n",
            "Объем рюкзака                  [50]\n",
            "Веса объектов                  [31, 10, 20, 19, 4, 3, 6]\n",
            "Ценность объектов              [70, 20, 39, 37, 7, 5, 10]\n",
            "Оптимальное решение            [1, 0, 0, 1, 0, 0, 0]\n",
            "ДАННЫЕ: \n",
            "Объем рюкзака                  [104]\n",
            "Веса объектов                  [25, 35, 45, 5, 25, 3, 2, 2]\n",
            "Ценность объектов              [350, 400, 450, 20, 70, 8, 5, 5]\n",
            "Оптимальное решение            [1, 0, 1, 1, 1, 0, 1, 1]\n",
            "ДАННЫЕ: \n",
            "Объем рюкзака                  [170]\n",
            "Веса объектов                  [41, 50, 49, 59, 55, 57, 60]\n",
            "Ценность объектов              [442, 525, 511, 593, 546, 564, 617]\n",
            "Оптимальное решение            [0, 1, 0, 1, 0, 0, 1]\n",
            "ДАННЫЕ: \n",
            "Объем рюкзака                  [750]\n",
            "Веса объектов                  [70, 73, 77, 80, 82, 87, 90, 94, 98, 106, 110, 113, 115, 118, 120]\n",
            "Ценность объектов              [135, 139, 149, 150, 156, 163, 173, 184, 192, 201, 210, 214, 221, 229, 240]\n",
            "Оптимальное решение            [1, 0, 1, 0, 1, 0, 1, 1, 1, 0, 0, 0, 0, 1, 1]\n",
            "Answer = 309\n",
            "Condition = 165\n",
            "\n",
            "--------------------------------------\n",
            "Answer = 244\n",
            "Weight = 152\n",
            "--------------------------------------\n",
            "\n"
          ]
        },
        {
          "data": {
            "image/png": "[encoded data removed]",
            "text/plain": [
              "<Figure size 432x288 with 1 Axes>"
            ]
          },
          "metadata": {},
          "output_type": "display_data"
        },
        {
          "name": "stdout",
          "output_type": "stream",
          "text": [
            "Answer = 51\n",
            "Condition = 26\n",
            "\n",
            "--------------------------------------\n",
            "Answer = 47\n",
            "Weight = 23\n",
            "--------------------------------------\n",
            "\n"
          ]
        },
        {
          "data": {
            "image/png": "[encoded data removed]",
            "text/plain": [
              "<Figure size 432x288 with 1 Axes>"
            ]
          },
          "metadata": {},
          "output_type": "display_data"
        },
        {
          "name": "stdout",
          "output_type": "stream",
          "text": [
            "Answer = 150\n",
            "Condition = 190\n",
            "\n",
            "--------------------------------------\n",
            "Answer = 119\n",
            "Weight = 156\n",
            "--------------------------------------\n",
            "\n"
          ]
        },
        {
          "data": {
            "image/png": "[encoded data removed]",
            "text/plain": [
              "<Figure size 432x288 with 1 Axes>"
            ]
          },
          "metadata": {},
          "output_type": "display_data"
        },
        {
          "name": "stdout",
          "output_type": "stream",
          "text": [
            "Answer = 107\n",
            "Condition = 50\n",
            "\n",
            "--------------------------------------\n",
            "Answer = 107\n",
            "Weight = 50\n",
            "--------------------------------------\n",
            "\n"
          ]
        },
        {
          "data": {
            "image/png": "[encoded data removed]",
            "text/plain": [
              "<Figure size 432x288 with 1 Axes>"
            ]
          },
          "metadata": {},
          "output_type": "display_data"
        },
        {
          "name": "stdout",
          "output_type": "stream",
          "text": [
            "Answer = 900\n",
            "Condition = 104\n",
            "\n",
            "--------------------------------------\n",
            "Answer = 888\n",
            "Weight = 92\n",
            "--------------------------------------\n",
            "\n"
          ]
        },
        {
          "data": {
            "image/png": "[encoded data removed]",
            "text/plain": [
              "<Figure size 432x288 with 1 Axes>"
            ]
          },
          "metadata": {},
          "output_type": "display_data"
        },
        {
          "name": "stdout",
          "output_type": "stream",
          "text": [
            "Answer = 1735\n",
            "Condition = 170\n",
            "\n",
            "--------------------------------------\n",
            "Answer = 1721\n",
            "Weight = 168\n",
            "--------------------------------------\n",
            "\n"
          ]
        },
        {
          "data": {
            "image/png": "[encoded data removed]",
            "text/plain": [
              "<Figure size 432x288 with 1 Axes>"
            ]
          },
          "metadata": {},
          "output_type": "display_data"
        },
        {
          "name": "stdout",
          "output_type": "stream",
          "text": [
            "Answer = 1458\n",
            "Condition = 750\n",
            "\n",
            "--------------------------------------\n",
            "Answer = 1429\n",
            "Weight = 748\n",
            "--------------------------------------\n",
            "\n"
          ]
        },
        {
          "data": {
            "image/png": "[encoded data removed]",
            "text/plain": [
              "<Figure size 432x288 with 1 Axes>"
            ]
          },
          "metadata": {},
          "output_type": "display_data"
        },
        {
          "name": "stdout",
          "output_type": "stream",
          "text": [
            "[0.0501704216003418, 0.027375221252441406, 0.03217363357543945, 0.037012577056884766, 0.04343295097351074, 0.04270482063293457, 0.08007502555847168]\n",
            "[0.7896440129449838, 0.9215686274509803, 0.7933333333333333, 1.0, 0.9866666666666667, 0.9919308357348703, 0.9801097393689986]\n"
          ]
        },
        {
          "data": {
            "image/png": "[encoded data removed]",
            "text/plain": [
              "<Figure size 432x288 with 1 Axes>"
            ]
          },
          "metadata": {},
          "output_type": "display_data"
        },
        {
          "data": {
            "image/png": "[encoded data removed]",
            "text/plain": [
              "<Figure size 432x288 with 1 Axes>"
            ]
          },
          "metadata": {},
          "output_type": "display_data"
        }
      ],
      "source": [
        "import time\n",
        "import random as rn\n",
        "\n",
        "\n",
        "T_start = 10\n",
        "T_param = 0.95\n",
        "T_step = 3\n",
        "T_par = 2.0\n",
        "a_param = 0.1\n",
        "maxCycleNumber = 400\n",
        "condition_array_x = []\n",
        "condition_array_y = []\n",
        "time_array_x = []\n",
        "time_array_y = []\n",
        "averageCycleNumber = []\n",
        "\n",
        "backpacks = getBackpacks()\n",
        "entity_num = 100\n",
        "Tm = 10\n",
        "condition_array_x = []\n",
        "condition_array_y = []\n",
        "time_array_x = []\n",
        "time_array_y = []\n",
        "i = 1\n",
        "\n",
        "for backpack in backpacks:\n",
        "  data = backpack.items\n",
        "  answer = backpack.answer\n",
        "  condition = backpack.condition\n",
        "  N = len(data)\n",
        "  high_board = (len(data) - 1) / len(data)\n",
        "  start = time.time()\n",
        "  print(\"Answer = \" + str(answer))\n",
        "  print(\"Condition = \" + str(condition))\n",
        "  vector = [0.5 for _ in range(N)]\n",
        "  T = T_start\n",
        "  statistic = []\n",
        "  for cycleNumber in range(maxCycleNumber):\n",
        "    old_vector = vector.copy()\n",
        "    vector = generationChange2(vector, a_param / T, data, T, condition, statistic)\n",
        "    saturation = getSaturation(vector)\n",
        "    #print(vector)\n",
        "    #if saturation > 0.999 and getEvolutionRate(vector, old_vector) < 0.00001:\n",
        "        #if decodeAnswer_2(vector, data)[1] > condition:\n",
        "            #a_param *= 1.5\n",
        "            #cycleNumber = 0\n",
        "            #vector = [0.5 for _ in range(i)]\n",
        "            #T = T_start\n",
        "            #if 0.1 < saturation < high_board:\n",
        "                #T *= 0.985\n",
        "            #else:\n",
        "             #   T *= T_param\n",
        "            #continue\n",
        "        #   sum_cycleNumber += cycleNumber\n",
        "        #break\n",
        "    #if cycleNumber % T_step == 0:\n",
        "     #   T /= T_par\n",
        "    if 0.1 < saturation < high_board:\n",
        "        T *= 0.985\n",
        "    else:\n",
        "        T *= T_param\n",
        "\n",
        "  time_array_y.append(time.time() - start)\n",
        "  print(\"\\n--------------------------------------\\nAnswer = \" + str(decodeAnswer_2(vector, data)[0]) + \"\\nWeight = \"\n",
        "      + str(decodeAnswer_2(vector, data)[1]) + \"\\n--------------------------------------\\n\")\n",
        "  optimum = answer\n",
        "  answer_ = decodeAnswer_2(vector, data)[0]\n",
        "  printGraphAnswerToOpt(optimum, statistic)\n",
        "  time_array_x.append(i)\n",
        "  condition_array_x.append(i)\n",
        "  condition_array_y.append(answer_/optimum)\n",
        "  i += 1\n",
        "\n",
        "print(time_array_y)\n",
        "print(condition_array_y)\n",
        "printTimeGraph(time_array_x, time_array_y)\n",
        "printAverageAnswerClear(condition_array_x, condition_array_y)\n"
      ]
    },
    {
      "cell_type": "markdown",
      "metadata": {
        "id": "Q2A-MlIqZFkO"
      },
      "source": [
        "## travelling salesman problem"
      ]
    },
    {
      "cell_type": "code",
      "execution_count": null,
      "metadata": {
        "colab": {
          "base_uri": "https://localhost:8080/"
        },
        "id": "lOlRinVkEUPL",
        "outputId": "ed8b0733-47cc-47d2-db80-e9541ba93517"
      },
      "outputs": [
        {
          "name": "stdout",
          "output_type": "stream",
          "text": [
            "Archive:  /content/drive/MyDrive/saleman_data.zip\n",
            "   creating: saleman_data/\n",
            "  inflating: saleman_data/a280.tsp   \n",
            "  inflating: saleman_data/att48.tsp  \n",
            "  inflating: saleman_data/bays29.tsp  \n",
            "  inflating: saleman_data/ch150.tsp  \n",
            "  inflating: saleman_data/fl417.tsp  \n",
            "  inflating: saleman_data/gr17.txt   \n"
          ]
        }
      ],
      "source": [
        "!unzip '/content/drive/MyDrive/saleman_data.zip'"
      ]
    },
    {
      "cell_type": "code",
      "execution_count": null,
      "metadata": {
        "colab": {
          "base_uri": "https://localhost:8080/"
        },
        "id": "L63k4Dr7Mha9",
        "outputId": "8cf8ec68-5457-47c3-9851-8edd4570afcf"
      },
      "outputs": [
        {
          "name": "stdout",
          "output_type": "stream",
          "text": [
            "Archive:  /content/drive/MyDrive/saleman_answer.zip\n",
            "  inflating: att48.txt               \n",
            "  inflating: bys29.txt               \n",
            "  inflating: ch150.txt               \n",
            "  inflating: a280.txt                \n"
          ]
        }
      ],
      "source": [
        "!unzip '/content/drive/MyDrive/saleman_answer.zip'"
      ]
    },
    {
      "cell_type": "code",
      "execution_count": null,
      "metadata": {
        "id": "SSuXx8HBE1-7"
      },
      "outputs": [],
      "source": [
        "import tsplib95"
      ]
    },
    {
      "cell_type": "code",
      "execution_count": null,
      "metadata": {
        "id": "4QgIxxQfZRB6"
      },
      "outputs": [],
      "source": [
        "import numpy as np\n",
        "def get_data_for_test_saleman(path_folder):\n",
        "  data = tsplib95.load(path_folder)\n",
        "  if data.edge_weight_format is None:\n",
        "    intercity_distance_table =np.zeros( [ data.dimension , data.dimension])\n",
        "    for i  in range(data.dimension ):\n",
        "      for j in range( data.dimension ):\n",
        "        edge = i+1 , j+1\n",
        "        intercity_distance_table[i][j] =  data.get_weight(*edge)\n",
        "  elif data.edge_weight_format == 'LOWER_DIAG_ROW':\n",
        "    print(\"WTF! Get this shit off me!\")\n",
        "    return 0\n",
        "  elif data.edge_weight_format == 'FULL_MATRIX':\n",
        "    intercity_distance_table =np.zeros( [ data.dimension , data.dimension ])\n",
        "    for i in range(data.dimension):\n",
        "      for j in range(data.dimension):\n",
        "        intercity_distance_table[i][j] =  data.edge_weights[i][j]\n",
        "\n",
        "  return intercity_distance_table"
      ]
    },
    {
      "cell_type": "code",
      "execution_count": null,
      "metadata": {
        "id": "n4O87QiajeJy"
      },
      "outputs": [],
      "source": [
        "def get_answer_path(path_folder):\n",
        "  with open(path_folder, 'r') as f:\n",
        "    nums = f.read().splitlines()\n",
        "    nums.pop()\n",
        "    for i in range(len(nums)):\n",
        "      nums[i] = int(nums[i])-1\n",
        "  return nums"
      ]
    },
    {
      "cell_type": "code",
      "execution_count": null,
      "metadata": {
        "id": "CpzzLIUznb8a"
      },
      "outputs": [],
      "source": [
        "def encode_path(path):\n",
        "  path_ = \"\"\n",
        "  for i in range(len(path)):\n",
        "    path_ += chr(path[i])\n",
        "  return path_"
      ]
    },
    {
      "cell_type": "code",
      "execution_count": null,
      "metadata": {
        "id": "Ei-DRH27WQkD"
      },
      "outputs": [],
      "source": [
        "class Graph:\n",
        "    def __init__(self, graph_ = {}):\n",
        "        self.graph = graph_\n",
        "        self.answer = 0\n",
        "\n",
        "    def setNode(self, nodes):\n",
        "        if nodes not in self.graph.keys():\n",
        "            self.graph[nodes] = {}\n",
        "        return self\n",
        "\n",
        "    def setNeighbour(self, nodes, neighbour, weight=0):\n",
        "        if nodes not in self.graph.keys():\n",
        "            self.graph[nodes] = {}\n",
        "        if neighbour not in self.graph.keys():\n",
        "            self.graph[neighbour] = {}\n",
        "\n",
        "        self.graph[nodes][neighbour] = weight\n",
        "        self.graph[neighbour][nodes] = weight\n",
        "        return self\n",
        "\n",
        "    def getVertices(self):\n",
        "        return list(self.graph.keys())\n",
        "\n",
        "    def getNeighbours(self, vertex):\n",
        "        if vertex in self.graph.keys():\n",
        "            return self.graph[vertex]\n",
        "\n",
        "    def getPathCost(self, path):\n",
        "        pathCost = 0\n",
        "        for node, neighbour in zip(path, path[1:]):\n",
        "              pathCost += self.graphus[node][neighbour]\n",
        "        pathCost +=  self.graph[path[-1]][path[0]]\n",
        "        return pathCost\n",
        "\n",
        "    def setAnswer(self, answer_path):\n",
        "        self.answer = self.getPathCost(answer_path)\n",
        "\n",
        "    def graphClean(self):\n",
        "      self.graph = None\n",
        "      self.answer = 0\n",
        "      return self"
      ]
    },
    {
      "cell_type": "code",
      "execution_count": null,
      "metadata": {
        "id": "V3IMboDkbV3q"
      },
      "outputs": [],
      "source": [
        "import matplotlib.pyplot as plt\n",
        "import networkx as nx\n",
        "def printPath(graph, path):\n",
        "  newGraph= nx.Graph()\n",
        "  newGraph.add_nodes_from([i for i in range(len(path))])\n",
        "  newGraph.add_edges_from((ord(node), ord(neighbour)) for node, neighbour in zip(path, path[1:]))\n",
        "  newGraph.add_edge(ord(path[-1]), ord(path[0]))\n",
        "  plt.figure(figsize =(10, 10))\n",
        "  nx.draw(newGraph, with_labels=True, font_weight='bold')\n",
        "  plt.show()\n"
      ]
    },
    {
      "cell_type": "code",
      "execution_count": null,
      "metadata": {
        "id": "5Q8FwVYL-U_U"
      },
      "outputs": [],
      "source": [
        "def getGraph_(file, answer='', last=False):\n",
        "  if last:\n",
        "    arr = []\n",
        "    with open('saleman_data/gr17.txt') as f:\n",
        "      arr = [list(map(int, row.split())) for row in f.readlines()]\n",
        "    setus = {}\n",
        "    graph_ = Graph(setus)\n",
        "    graph_.answer=400000\n",
        "\n",
        "    for i in range(0, len(arr)):\n",
        "      for j in range(i, len(arr)):\n",
        "        graph_ = graph_.setAdjacent(chr(i), chr(j), int(arr[i][j]))\n",
        "    return graph_\n",
        "\n",
        "  arr = get_data_for_test_saleman(file)\n",
        "  setus = {}\n",
        "  graph_ = Graph(setus)\n",
        "  if answer != '':\n",
        "    answer_path = get_answer_path(answer)\n",
        "\n",
        "  for i in range(0, len(arr)):\n",
        "    for j in range(i, len(arr)):\n",
        "      graph_ = graph_.setAdjacent(chr(i), chr(j), int(arr[i][j]))\n",
        "\n",
        "  if answer != '':\n",
        "    graph_.setAnswer(encode_path(answer_path))\n",
        "  else:\n",
        "    graph_.answer=400000\n",
        "  return graph_\n",
        "\n"
      ]
    },
    {
      "cell_type": "code",
      "execution_count": null,
      "metadata": {
        "id": "oIffUjeU7QNR"
      },
      "outputs": [],
      "source": [
        "import numpy as np\n",
        "import operator\n",
        "import math\n",
        "\n",
        "class GeneticAlgorithm:\n",
        "    def __init__(self, generations_, population_size_, tournamentSize_, mutationRt_, elitRt_):\n",
        "        self.generations = generations_\n",
        "        self.population_size = population_size_\n",
        "        self.tournamentSize = tournamentSize_\n",
        "        self.mutationRate = mutationRt_\n",
        "        self.elitRt = elitRt_\n",
        "\n",
        "    def __makePopulation(self, graph_nodes):\n",
        "        return [''.join(v for v in np.random.permutation(graph_nodes)) for i in range(self.population_size)]\n",
        "\n",
        "    def __computeFitness(self, graph, population):\n",
        "        return [graph.getPathCost(path) for path in population]\n",
        "\n",
        "    def __tournamentSelection(self, graph, population):\n",
        "        tournament_contestants = np.random.choice(population, size=self.tournamentSize)\n",
        "        tournament_contestants_fitness = self.__computeFitness(graph, tournament_contestants)\n",
        "        return tournament_contestants[np.argmin(tournament_contestants_fitness)]\n",
        "\n",
        "    def __crossover(self, parent1, parent2):\n",
        "        offspring = ['' for allele in range(len(parent1))]\n",
        "        index_low, index_high = self.__computeLowHighIndexes(parent1)\n",
        "        offspring[index_low:index_high+1] = list(parent1)[index_low:index_high+1]\n",
        "        offspring_available_index = list(range(0, index_low)) + list(range(index_high+1, len(parent1)))\n",
        "        for allele in parent2:\n",
        "            if '' not in offspring:\n",
        "                break\n",
        "            if allele not in offspring:\n",
        "                offspring[offspring_available_index.pop(0)] = allele\n",
        "        return ''.join(v for v in offspring)\n",
        "\n",
        "    def __mutate(self, genome):\n",
        "        if np.random.random() < self.mutationRt:\n",
        "            index_low, index_high = self.__computeLowHighIndexes(genome)\n",
        "            return self.__swap(index_low, index_high, genome)\n",
        "        else:\n",
        "            return genome\n",
        "\n",
        "    def __computeLowHighIndexes(self, string):\n",
        "        index_low = np.random.randint(0, len(string)-1)\n",
        "        index_high = np.random.randint(index_low+1, len(string))\n",
        "        while index_high - index_low > math.ceil(len(string)//2):\n",
        "            try:\n",
        "                index_low = np.random.randint(0, len(string))\n",
        "                index_high = np.random.randint(index_low+1, len(string))\n",
        "            except ValueError:\n",
        "                pass\n",
        "        return (index_low, index_high)\n",
        "\n",
        "    def __swap(self, index_low, index_high, string):\n",
        "        string = list(string)\n",
        "        string[index_low], string[index_high] = string[index_high], string[index_low]\n",
        "        return ''.join(string)\n",
        "\n",
        "    def getOptimalPath(self, graph):\n",
        "        population = self.__makePopulation(graph.getVertices())\n",
        "        elitOffset = math.ceil(self.population_size*self.elitRt)\n",
        "        for generation in range(self.generations):\n",
        "            newPopulation = []\n",
        "            fitness = self.__computeFitness(graph, population)\n",
        "            fittest = np.argmin(fitness)\n",
        "            if elitOffset:\n",
        "                elites = np.array(fitness).argsort()[:elitOffset]\n",
        "                [newPopulation.append(population[i]) for i in elites]\n",
        "            for gen in range(elitOffset, self.population_size):\n",
        "                parent1 = self.__tournamentSelection(graph, population)\n",
        "                parent2 = self.__tournamentSelection(graph, population)\n",
        "                offspring = self.__crossover(parent1, parent2)\n",
        "                newPopulation.append(offspring)\n",
        "            for gen in range(elitOffset, self.population_size):\n",
        "                newPopulation[gen] = self.__mutate(newPopulation[gen])\n",
        "            population = newPopulation\n",
        "        return (population[fittest], fitness[fittest])"
      ]
    },
    {
      "cell_type": "code",
      "execution_count": null,
      "metadata": {
        "id": "3yYQvjhD5ZrA"
      },
      "outputs": [],
      "source": [
        "def decode_(op):\n",
        "  path = \"\"\n",
        "  for ch in op:\n",
        "    path += str(ord(ch)) + \" \"\n",
        "  return path"
      ]
    },
    {
      "cell_type": "code",
      "execution_count": null,
      "metadata": {
        "colab": {
          "base_uri": "https://localhost:8080/"
        },
        "id": "ku0c6Sh78KSY",
        "outputId": "02df39f5-1b99-4b00-c3b7-1fde1b6e10b1"
      },
      "outputs": [
        {
          "name": "stdout",
          "output_type": "stream",
          "text": [
            "\n",
            "Path: 187 77 76 68 40 19 270 271 273 259 253 252 217 223 222 224 210 11 15 269 136 137 140 139 147 146 228 244 243 278 261 125 36 34 52 75 78 96 95 94 91 99 169 102 107 109 110 120 153 130 17 275 276 3 279 1 238 245 237 230 209 203 143 199 144 175 59 60 117 61 62 85 83 103 164 184 186 180 182 138 8 10 258 257 256 208 213 226 232 233 214 218 219 190 161 162 106 113 114 123 25 21 24 12 22 132 145 198 195 201 205 277 4 5 142 197 194 191 193 200 202 211 242 240 239 254 263 152 32 33 31 27 26 18 131 129 20 128 30 41 42 57 58 168 167 165 170 171 172 173 159 158 176 177 150 157 111 81 80 88 108 178 141 204 231 236 235 234 221 220 196 192 185 163 166 101 79 72 70 69 66 67 63 64 84 71 73 74 93 92 97 98 100 90 89 82 65 43 54 53 47 51 46 45 55 56 44 39 38 37 49 50 48 35 29 268 262 248 247 133 127 28 126 134 267 135 155 151 118 156 116 115 112 86 87 104 105 174 160 181 225 227 229 250 249 246 241 2 6 7 9 13 23 16 14 272 274 260 206 212 215 216 149 119 121 122 124 154 266 255 251 207 264 265 148 179 183 189 188 \n",
            "Cost: 7668\n",
            "Answer: 2579\n",
            "\n",
            "Path: 9 41 28 17 6 27 36 18 5 32 38 24 10 22 40 1 25 3 44 31 42 16 26 29 35 8 39 2 21 15 7 37 30 43 45 14 11 19 46 20 12 13 4 \n",
            "Cost: 16383\n",
            "Answer: 10628\n",
            "\n",
            "Path: 7 26 14 3 15 23 12 9 20 4 5 8 17 16 13 21 10 18 24 6 22 19 1 28 27 \n",
            "Cost: 2592\n",
            "Answer: 2020\n",
            "\n",
            "Path: 12 144 40 56 116 128 111 63 124 148 108 50 80 57 140 78 93 87 149 114 20 77 15 104 32 92 120 44 67 118 90 70 43 61 33 6 83 95 58 14 121 130 31 37 66 42 109 1 18 113 107 69 134 49 131 64 82 133 71 135 73 122 139 147 10 129 38 100 115 85 28 5 27 8 36 24 45 91 34 72 75 86 97 102 81 94 106 4 25 74 17 142 99 96 123 145 55 137 11 23 117 68 35 60 16 65 59 52 39 138 119 41 46 19 89 125 9 112 47 62 29 88 51 110 22 26 30 143 146 48 79 13 76 132 53 54 98 101 136 84 141 7 2 \n",
            "Cost: 13270\n",
            "Answer: 6528\n",
            "\n",
            "Path: 358 58 264 390 76 93 62 90 39 312 301 171 66 181 98 10 68 178 275 87 148 319 13 73 59 138 119 234 407 202 291 134 28 393 256 117 5 132 254 249 53 85 54 216 94 219 255 365 229 63 84 235 361 370 415 347 3 49 218 30 114 24 9 38 182 81 96 366 320 318 45 323 136 404 359 414 412 384 208 207 397 284 47 203 341 225 269 272 252 213 242 400 360 170 190 378 258 257 368 217 241 276 193 82 287 374 79 324 354 247 383 355 174 16 121 199 373 282 286 263 280 376 72 295 294 186 239 11 283 166 118 285 156 168 143 345 391 296 70 142 65 89 351 232 307 357 210 279 394 88 129 20 21 151 364 40 316 326 337 128 313 126 243 372 340 385 265 262 110 123 278 362 180 185 353 29 339 300 127 331 327 108 18 157 408 388 363 224 386 227 97 261 46 297 333 401 237 223 311 336 315 334 55 15 61 204 244 167 173 200 176 310 139 32 350 267 289 298 120 299 302 107 228 48 191 41 69 113 332 1 293 6 77 260 101 304 105 100 338 163 187 387 115 43 328 175 42 206 379 109 214 402 395 371 177 416 375 382 137 329 342 161 189 396 392 321 135 344 152 192 51 12 2 398 369 367 406 83 381 399 266 104 7 34 74 194 153 50 251 253 201 141 305 330 71 273 250 78 75 52 377 95 19 57 35 246 215 231 92 60 271 144 106 236 405 131 36 56 91 67 44 270 268 158 26 22 205 403 102 103 221 233 411 389 380 146 150 195 162 188 409 277 140 8 145 211 209 325 308 31 112 133 306 125 259 245 226 281 160 14 130 349 23 322 64 248 240 155 169 317 184 149 314 348 197 164 335 111 356 198 17 413 274 37 154 179 165 172 80 292 212 288 309 352 159 25 147 196 99 222 238 220 86 290 4 343 303 124 410 230 122 27 346 116 33 183 \n",
            "Cost: 343392\n",
            "Answer: 400000\n",
            "\n",
            "Path: 9 10 6 12 16 13 14 2 5 7 3 11 15 8 4 1 \n",
            "Cost: 2458\n",
            "Answer: 400000\n",
            "[6.4373016357421875e-06, 5.4836273193359375e-06, 4.5299530029296875e-06, 6.67572021484375e-06, 6.9141387939453125e-06, 5.7220458984375e-06]\n",
            "[2.9732454439705314, 1.5414941663530297, 1.2831683168316832, 2.032781862745098, 0.85848, 0.006145]\n"
          ]
        }
      ],
      "source": [
        "import random as rn\n",
        "import time\n",
        "\n",
        "files = ['saleman_data/a280.tsp', 'saleman_data/att48.tsp', 'saleman_data/bays29.tsp', 'saleman_data/ch150.tsp', 'saleman_data/fl417.tsp']\n",
        "answers = ['a280.txt', 'att48.txt', 'bys29.txt', 'ch150.txt', '', '']\n",
        "\n",
        "graphs = []\n",
        "for i in range(len(files)):\n",
        "  graphs.append(getGraph_(files[i], answers[i]))\n",
        "graphs.append(getGraph_('aaa', 'bbb', True))\n",
        "\n",
        "generations_ = [10000, 1500, 250, 10000, 150, 100]\n",
        "populations = [15, 10, 10, 15, 10, 10]\n",
        "times = []\n",
        "kf = []\n",
        "i = 0\n",
        "for ind in range(len(graphs)):\n",
        "  start = time.time()\n",
        "  ga = GeneticAlgorithm(generations=generations_[i], population_size=populations[i], tournamentSize=4, mutationRate=0.5, elitismRate=0.2)\n",
        "  times.append(time.time()-start)\n",
        "  optimal_path, path_cost = ga.getOptimalPath(graphs[ind])\n",
        "  kf.append(path_cost / graphs[ind].answer)\n",
        "  print ('\\n' +'Path: ' + str(decode_(optimal_path)) + '\\n' + 'Cost: ' + str(path_cost) +'\\n' + 'Answer: ' + str(graphs[ind].answer))\n",
        "  #printPath(graphs[ind], optimal_path)\n",
        "  i+=1\n",
        "print(times)\n",
        "print(kf)"
      ]
    }
  ],
  "metadata": {
    "colab": {
      "provenance": []
    },
    "kernelspec": {
      "display_name": "Python 3",
      "name": "python3"
    },
    "language_info": {
      "name": "python"
    }
  },
  "nbformat": 4,
  "nbformat_minor": 0
}
