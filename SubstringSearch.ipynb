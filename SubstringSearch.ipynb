{
  "cells": [
    {
      "cell_type": "markdown",
      "metadata": {},
      "source": [
        "# <b>Task:</b> Implement and compare algorithms for finding a substring in a string."
      ]
    },
    {
      "cell_type": "markdown",
      "metadata": {},
      "source": [
        "<b>Data</b>\n",
        "\n",
        "The data archive was used for the evaluation\n",
        "Structure: \n",
        "\n",
        "bad_t_1 - bad set with text\n",
        "\n",
        "bad_w_1 - bad set with pattern\n",
        "\n",
        "good_t_1 - good set with text\n",
        "\n",
        "good_w_1 - good set with pattern\n",
        "\n",
        "\n",
        "\"Bad set\" - a set difficult to find, for some algorithms.\n",
        "\"Good set\" - a set with plain text.\n"
      ]
    },
    {
      "cell_type": "markdown",
      "metadata": {
        "id": "A0kR0DEhxgOf"
      },
      "source": [
        "## Import libraries + reading data"
      ]
    },
    {
      "cell_type": "code",
      "execution_count": null,
      "metadata": {
        "colab": {
          "base_uri": "https://localhost:8080/",
          "height": 91,
          "resources": {
            "http://localhost:8080/nbextensions/google.colab/files.js": {
              "data": "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",
              "headers": [
                [
                  "content-type",
                  "application/javascript"
                ]
              ],
              "ok": true,
              "status": 200,
              "status_text": ""
            }
          }
        },
        "id": "d2j0drW7xox4",
        "outputId": "e19b017e-15e8-4623-d71f-374134f32a2c"
      },
      "outputs": [
        {
          "data": {
            "text/html": [
              "\n",
              "     <input type=\"file\" id=\"files-c67202ef-6c0c-4b60-8ebd-5dbcde80b24c\" name=\"files[]\" multiple disabled\n",
              "        style=\"border:none\" />\n",
              "     <output id=\"result-c67202ef-6c0c-4b60-8ebd-5dbcde80b24c\">\n",
              "      Upload widget is only available when the cell has been executed in the\n",
              "      current browser session. Please rerun this cell to enable.\n",
              "      </output>\n",
              "      <script src=\"/nbextensions/google.colab/files.js\"></script> "
            ],
            "text/plain": [
              "<IPython.core.display.HTML object>"
            ]
          },
          "metadata": {},
          "output_type": "display_data"
        },
        {
          "name": "stdout",
          "output_type": "stream",
          "text": [
            "Saving data_test_alg.zip to data_test_alg.zip\n"
          ]
        }
      ],
      "source": [
        "from google.colab import files\n",
        "uploaded = files.upload()"
      ]
    },
    {
      "cell_type": "code",
      "execution_count": null,
      "metadata": {
        "colab": {
          "base_uri": "https://localhost:8080/"
        },
        "id": "6uPDn2wByTSB",
        "outputId": "a3ef1445-e5dc-4965-8540-1186225188df"
      },
      "outputs": [
        {
          "name": "stdout",
          "output_type": "stream",
          "text": [
            "Archive:  data_test_alg.zip\n",
            "   creating: benchmarks/\n",
            "   creating: benchmarks/benchmarks/\n",
            "  inflating: benchmarks/benchmarks/bad_t_1.txt  \n",
            "  inflating: benchmarks/benchmarks/bad_t_2.txt  \n",
            "  inflating: benchmarks/benchmarks/bad_t_3.txt  \n",
            "  inflating: benchmarks/benchmarks/bad_t_4.txt  \n",
            "  inflating: benchmarks/benchmarks/bad_w_1.txt  \n",
            "  inflating: benchmarks/benchmarks/bad_w_2.txt  \n",
            "  inflating: benchmarks/benchmarks/bad_w_3.txt  \n",
            "  inflating: benchmarks/benchmarks/bad_w_4.txt  \n",
            "  inflating: benchmarks/benchmarks/good_t_1.txt  \n",
            "  inflating: benchmarks/benchmarks/good_t_2.txt  \n",
            "  inflating: benchmarks/benchmarks/good_t_3.txt  \n",
            "  inflating: benchmarks/benchmarks/good_t_4.txt  \n",
            "  inflating: benchmarks/benchmarks/good_w_1.txt  \n",
            "  inflating: benchmarks/benchmarks/good_w_2.txt  \n",
            "  inflating: benchmarks/benchmarks/good_w_3.txt  \n",
            "  inflating: benchmarks/benchmarks/good_w_4.txt  \n"
          ]
        }
      ],
      "source": [
        "!unzip data_test_alg.zip"
      ]
    },
    {
      "cell_type": "code",
      "execution_count": null,
      "metadata": {
        "id": "lc3ec6O9z533"
      },
      "outputs": [],
      "source": [
        "import math\n",
        "\n",
        "def getPrimes(limit):\n",
        "    primes = []\n",
        "    numbers = [True] * limit\n",
        "    for i in range(2, limit):\n",
        "        if numbers[i]:\n",
        "            primes.append(i)\n",
        "            for n in range(i ** 2, limit, i):\n",
        "                numbers[n] = False\n",
        "    return primes\n",
        "\n",
        "\n",
        "def getNerestPrime(number):\n",
        "  primes = getPrimes(number + 100)\n",
        "  maxDist = math.inf\n",
        "  numb = 0\n",
        "\n",
        "  for p in primes:\n",
        "      if abs(number - p) < maxDist:\n",
        "          maxDist = abs(number - p)\n",
        "          numb = p\n",
        "  return numb"
      ]
    },
    {
      "cell_type": "markdown",
      "metadata": {
        "id": "BOOSiNs3vkDD"
      },
      "source": [
        "## Naive algorithm\n"
      ]
    },
    {
      "cell_type": "code",
      "execution_count": null,
      "metadata": {
        "id": "06nps5VQztrw"
      },
      "outputs": [],
      "source": [
        "def nativeStringMatcher(T, W):\n",
        "    N = len(T)\n",
        "    M = len(W)\n",
        "    count_operation = 0\n",
        "    for i in range(N - M + 1):\n",
        "        count_operation += 1\n",
        "        if T[i:i + M].__eq__(W):\n",
        "            return i,count_operation\n",
        "    return -1,count_operation"
      ]
    },
    {
      "cell_type": "markdown",
      "metadata": {
        "id": "MqkUDqQ2vpFH"
      },
      "source": [
        "## Rabin-Karp algorithm"
      ]
    },
    {
      "cell_type": "code",
      "execution_count": null,
      "metadata": {
        "id": "jlLzo0GQ0sOt"
      },
      "outputs": [],
      "source": [
        "def RabinKarpNative(T, W):\n",
        "    hashValue = hash(W)\n",
        "    count_operation = 0\n",
        "    for i in range(0, len(T) - 1):\n",
        "        count_operation += 1\n",
        "        currValue = hash(T[i: len(W) + i])\n",
        "        if hashValue == currValue:\n",
        "            count_operation += 1\n",
        "            if W.__eq__(T[i:len(W)+i]):\n",
        "                return i,count_operation\n",
        "    return -1,count_operation"
      ]
    },
    {
      "cell_type": "code",
      "execution_count": null,
      "metadata": {
        "id": "7BlYiu08YhQO"
      },
      "outputs": [],
      "source": [
        "def calculateFirstlyHash(string, P):\n",
        "      hashValue = 0\n",
        "      i = 0\n",
        "      for char in string:\n",
        "          hashValue += ord(char) * (P ** i)\n",
        "          i += 1\n",
        "      return hashValue % P, hashValue"
      ]
    },
    {
      "cell_type": "code",
      "execution_count": null,
      "metadata": {
        "id": "d8hlhO3i0rxx"
      },
      "outputs": [],
      "source": [
        "def calculateHashAfterHashing(string, P, previous):\n",
        "    previous -= ord(string[0])\n",
        "    previous //= P\n",
        "    previous += ord(string[-1]) * (P ** (len(string)-2))\n",
        "    return previous % P, previous"
      ]
    },
    {
      "cell_type": "code",
      "execution_count": null,
      "metadata": {
        "id": "3zHWjfpK1yi0"
      },
      "outputs": [],
      "source": [
        "def RabinKarpProgressive(T, W, P):\n",
        "    hashValue, l = calculateFirstlyHash(W, P)\n",
        "    currValue, checksum = calculateFirstlyHash(T[0: len(W)], P)\n",
        "    count_operation = 1\n",
        "    if hashValue == currValue:\n",
        "        if W.__eq__(T[0:len(W)]):\n",
        "            return 0\n",
        "    for i in range(1, len(T) - 1):\n",
        "        currValue, checksum = calculateHashAfterHashing(T[i-1: len(W) + i], P, checksum)\n",
        "        count_operation += 1\n",
        "        if hashValue == currValue:\n",
        "            count_operation += 1\n",
        "            if W.__eq__(T[i:len(W) + i]):\n",
        "                return i, count_operation\n",
        "    return -1, count_operation"
      ]
    },
    {
      "cell_type": "markdown",
      "metadata": {
        "id": "Ak9PDKrgxbMv"
      },
      "source": [
        "## Knutt-Maurice-Pratt algorithm"
      ]
    },
    {
      "cell_type": "code",
      "execution_count": null,
      "metadata": {
        "id": "TjODaSNbvoXe"
      },
      "outputs": [],
      "source": [
        "def calculatePrefix(W):\n",
        "    prefixes = [0 for _ in range(len(W))]\n",
        "    for i in range(1, len(W)):\n",
        "        offset = prefixes[i-1]\n",
        "        while offset > 0 and W[offset] != W[i]:\n",
        "            offset = prefixes[offset-1]\n",
        "        if W[offset] == W[i]:\n",
        "            offset = offset + 1\n",
        "        prefixes[i] = offset\n",
        "    return prefixes"
      ]
    },
    {
      "cell_type": "code",
      "execution_count": null,
      "metadata": {
        "id": "9G07nkQ5_p0u"
      },
      "outputs": [],
      "source": [
        "def KnutMorisPratt(T, W):\n",
        "    f = calculatePrefix(W)\n",
        "    offset = 0\n",
        "    count_operation = 0\n",
        "    for i in range(len(T)):\n",
        "\n",
        "        count_operation += 2\n",
        "        while offset > 0 and W[offset] != T[i]:\n",
        "            offset = f[offset-1]\n",
        "            count_operation += 2\n",
        "\n",
        "        count_operation += 1\n",
        "        if W[offset] == T[i]:\n",
        "            offset = offset + 1\n",
        "\n",
        "        count_operation += 1\n",
        "        if offset == len(W):\n",
        "            return i - len(W) + 1, count_operation\n",
        "\n",
        "    return -1, count_operation"
      ]
    },
    {
      "cell_type": "markdown",
      "metadata": {
        "id": "XHSvbScDGMdc"
      },
      "source": [
        "## Testing"
      ]
    },
    {
      "cell_type": "code",
      "execution_count": null,
      "metadata": {
        "id": "o9YhDW0-KVTu"
      },
      "outputs": [],
      "source": [
        "import time\n",
        "import numpy as np\n",
        "def check_time(f, *args):\n",
        "  function_time = 0.\n",
        "  for i in np.arange(1000):\n",
        "    start = time.time()\n",
        "    f(*args)\n",
        "    function_time += time.time() - start\n",
        "  avarege_time = function_time / 1000\n",
        "  return avarege_time"
      ]
    },
    {
      "cell_type": "code",
      "execution_count": null,
      "metadata": {
        "id": "Upz-hvTaGODT"
      },
      "outputs": [],
      "source": [
        "def get_text_word(path_text,path_word):\n",
        "  with open(path_text) as file:\n",
        "    text = file.read()\n",
        "  with open(path_word) as file:\n",
        "    word = file.read()\n",
        "  return text,word\n"
      ]
    },
    {
      "cell_type": "code",
      "execution_count": null,
      "metadata": {
        "colab": {
          "base_uri": "https://localhost:8080/"
        },
        "id": "S9x5m8DFGpmK",
        "outputId": "e0344e1f-74f3-4abe-a00e-36563fb1f43d"
      },
      "outputs": [
        {
          "name": "stdout",
          "output_type": "stream",
          "text": [
            "(8, 9)\n",
            "(8, 10)\n",
            "(8, 17)\n",
            "(8, 56)\n",
            "4.4097900390625e-06\n",
            "3.958225250244141e-06\n",
            "1.403045654296875e-05\n",
            "6.757497787475586e-06\n"
          ]
        }
      ],
      "source": [
        "text, word = get_text_word(\"benchmarks/benchmarks/bad_t_1.txt\", \"benchmarks/benchmarks/bad_w_1.txt\")\n",
        "P = getNerestPrime(len(set(list(word))))\n",
        "\n",
        "print(nativeStringMatcher(text, word))\n",
        "print(RabinKarpNative(text, word))\n",
        "print(RabinKarpProgressive(text,word,P))\n",
        "print(KnutMorisPratt(text, word))\n",
        "\n",
        "\n",
        "print(check_time(nativeStringMatcher,text, word))\n",
        "print(check_time(RabinKarpNative,text, word))\n",
        "print(check_time(RabinKarpProgressive,text, word, P))\n",
        "print(check_time(KnutMorisPratt,text, word))\n"
      ]
    },
    {
      "cell_type": "code",
      "execution_count": null,
      "metadata": {
        "colab": {
          "base_uri": "https://localhost:8080/"
        },
        "id": "YPhlpTC0Hghz",
        "outputId": "998c5285-8f37-4c71-f7a0-cd22f3e3d898"
      },
      "outputs": [
        {
          "name": "stdout",
          "output_type": "stream",
          "text": [
            "(90, 91)\n",
            "(90, 92)\n",
            "(90, 181)\n",
            "(90, 580)\n",
            "2.466106414794922e-05\n",
            "3.026270866394043e-05\n",
            "0.0001371347904205322\n",
            "6.77950382232666e-05\n"
          ]
        }
      ],
      "source": [
        "text, word = get_text_word(\"benchmarks/benchmarks/bad_t_2.txt\", \"benchmarks/benchmarks/bad_w_2.txt\")\n",
        "P = getNerestPrime(len(set(list(word))))\n",
        "\n",
        "print(nativeStringMatcher(text, word))\n",
        "print(RabinKarpNative(text, word))\n",
        "print(RabinKarpProgressive(text,word,P))\n",
        "print(KnutMorisPratt(text, word))\n",
        "\n",
        "\n",
        "print(check_time(nativeStringMatcher,text, word))\n",
        "print(check_time(RabinKarpNative,text, word))\n",
        "print(check_time(RabinKarpProgressive,text, word, P))\n",
        "print(check_time(KnutMorisPratt,text, word))\n"
      ]
    },
    {
      "cell_type": "code",
      "execution_count": null,
      "metadata": {
        "colab": {
          "base_uri": "https://localhost:8080/"
        },
        "id": "Ct2KSxGZIoS-",
        "outputId": "7e855f37-f6d5-4261-e757-9b54a862fd30"
      },
      "outputs": [
        {
          "name": "stdout",
          "output_type": "stream",
          "text": [
            "(900, 901)\n",
            "(900, 902)\n",
            "(900, 1801)\n",
            "(900, 5800)\n",
            "0.00027598190307617185\n",
            "0.0003782751560211182\n",
            "0.0017602319717407227\n",
            "0.0006889259815216065\n"
          ]
        }
      ],
      "source": [
        "text, word = get_text_word(\"benchmarks/benchmarks/bad_t_3.txt\", \"benchmarks/benchmarks/bad_w_3.txt\")\n",
        "P = getNerestPrime(len(set(list(word))))\n",
        "\n",
        "print(nativeStringMatcher(text, word))\n",
        "print(RabinKarpNative(text, word))\n",
        "print(RabinKarpProgressive(text,word,P))\n",
        "print(KnutMorisPratt(text, word))\n",
        "\n",
        "\n",
        "print(check_time(nativeStringMatcher,text, word))\n",
        "print(check_time(RabinKarpNative,text, word))\n",
        "print(check_time(RabinKarpProgressive,text, word, P))\n",
        "print(check_time(KnutMorisPratt,text, word))\n"
      ]
    },
    {
      "cell_type": "code",
      "execution_count": null,
      "metadata": {
        "colab": {
          "base_uri": "https://localhost:8080/"
        },
        "id": "lB4ecqeMIqjv",
        "outputId": "21824dab-b2fe-4f9a-a02f-b078818cfc16"
      },
      "outputs": [
        {
          "name": "stdout",
          "output_type": "stream",
          "text": [
            "(4000, 4001)\n",
            "(4000, 4002)\n",
            "(4000, 8001)\n",
            "(4000, 28000)\n",
            "0.0014374380111694335\n",
            "0.004185657262802124\n",
            "0.016407800674438477\n",
            "0.003798530578613281\n"
          ]
        }
      ],
      "source": [
        "text, word = get_text_word(\"benchmarks/benchmarks/bad_t_4.txt\", \"benchmarks/benchmarks/bad_w_4.txt\")\n",
        "P = getNerestPrime(len(set(list(word))))\n",
        "\n",
        "print(nativeStringMatcher(text, word))\n",
        "print(RabinKarpNative(text, word))\n",
        "print(RabinKarpProgressive(text,word,P))\n",
        "print(KnutMorisPratt(text, word))\n",
        "\n",
        "\n",
        "print(check_time(nativeStringMatcher,text, word))\n",
        "print(check_time(RabinKarpNative,text, word))\n",
        "print(check_time(RabinKarpProgressive,text, word, P))\n",
        "print(check_time(KnutMorisPratt,text, word))"
      ]
    },
    {
      "cell_type": "code",
      "execution_count": null,
      "metadata": {
        "colab": {
          "base_uri": "https://localhost:8080/"
        },
        "id": "dEep1RaaIsuw",
        "outputId": "28755851-277f-4ae0-d1b1-b441dfabfc20"
      },
      "outputs": [
        {
          "name": "stdout",
          "output_type": "stream",
          "text": [
            "(599, 600)\n",
            "(599, 601)\n",
            "(599, 645)\n",
            "(599, 2498)\n",
            "0.0001651732921600342\n",
            "0.00024545311927795413\n",
            "0.0008665735721588134\n",
            "0.00026307034492492674\n"
          ]
        }
      ],
      "source": [
        "text, word = get_text_word(\"benchmarks/benchmarks/good_t_1.txt\", \"benchmarks/benchmarks/good_w_1.txt\")\n",
        "P = getNerestPrime(len(set(list(word))))\n",
        "\n",
        "print(nativeStringMatcher(text, word))\n",
        "print(RabinKarpNative(text, word))\n",
        "print(RabinKarpProgressive(text,word,P))\n",
        "print(KnutMorisPratt(text, word))\n",
        "\n",
        "\n",
        "print(check_time(nativeStringMatcher,text, word))\n",
        "print(check_time(RabinKarpNative,text, word))\n",
        "print(check_time(RabinKarpProgressive,text, word, P))\n",
        "print(check_time(KnutMorisPratt,text, word))"
      ]
    },
    {
      "cell_type": "code",
      "execution_count": null,
      "metadata": {
        "colab": {
          "base_uri": "https://localhost:8080/"
        },
        "id": "afGedYi3Ix2d",
        "outputId": "a2b3e838-1dc2-45b4-f242-97a2d2667b80"
      },
      "outputs": [
        {
          "name": "stdout",
          "output_type": "stream",
          "text": [
            "(610, 611)\n",
            "(610, 612)\n",
            "(610, 744)\n",
            "(610, 2780)\n",
            "0.00018070554733276366\n",
            "0.00033298873901367186\n",
            "0.0013962843418121337\n",
            "0.00031975555419921876\n"
          ]
        }
      ],
      "source": [
        "text, word = get_text_word(\"benchmarks/benchmarks/good_t_2.txt\", \"benchmarks/benchmarks/good_w_2.txt\")\n",
        "P = getNerestPrime(len(set(list(word))))\n",
        "\n",
        "print(nativeStringMatcher(text, word))\n",
        "print(RabinKarpNative(text, word))\n",
        "print(RabinKarpProgressive(text,word,P))\n",
        "print(KnutMorisPratt(text, word))\n",
        "\n",
        "\n",
        "print(check_time(nativeStringMatcher,text, word))\n",
        "print(check_time(RabinKarpNative,text, word))\n",
        "print(check_time(RabinKarpProgressive,text, word, P))\n",
        "print(check_time(KnutMorisPratt,text, word))\n"
      ]
    },
    {
      "cell_type": "code",
      "execution_count": null,
      "metadata": {
        "colab": {
          "base_uri": "https://localhost:8080/"
        },
        "id": "cN1KY8m6I3aa",
        "outputId": "c31bf03c-90a8-4035-e7dd-2e39870f6530"
      },
      "outputs": [
        {
          "name": "stdout",
          "output_type": "stream",
          "text": [
            "(1629, 1630)\n",
            "(1629, 1631)\n",
            "(1629, 1687)\n",
            "(1629, 8152)\n",
            "0.0005670225620269775\n",
            "0.0014754645824432372\n",
            "0.009586340188980103\n",
            "0.0010820918083190919\n"
          ]
        }
      ],
      "source": [
        "text, word = get_text_word(\"benchmarks/benchmarks/good_t_3.txt\", \"benchmarks/benchmarks/good_w_3.txt\")\n",
        "P = getNerestPrime(len(set(list(word))))\n",
        "\n",
        "print(nativeStringMatcher(text, word))\n",
        "print(RabinKarpNative(text, word))\n",
        "print(RabinKarpProgressive(text,word,P))\n",
        "print(KnutMorisPratt(text, word))\n",
        "\n",
        "\n",
        "print(check_time(nativeStringMatcher,text, word))\n",
        "print(check_time(RabinKarpNative,text, word))\n",
        "print(check_time(RabinKarpProgressive,text, word, P))\n",
        "print(check_time(KnutMorisPratt,text, word))"
      ]
    },
    {
      "cell_type": "code",
      "execution_count": null,
      "metadata": {
        "colab": {
          "base_uri": "https://localhost:8080/"
        },
        "id": "-XvaOwaVI5f7",
        "outputId": "1d4c8d92-63dd-4822-a607-13a387173c84"
      },
      "outputs": [
        {
          "name": "stdout",
          "output_type": "stream",
          "text": [
            "(9522, 9523)\n",
            "(9522, 9524)\n",
            "(9522, 9714)\n",
            "(9522, 38456)\n",
            "0.00308068323135376\n",
            "0.0047944443225860596\n",
            "0.02156748652458191\n",
            "0.004129459857940674\n"
          ]
        }
      ],
      "source": [
        "text, word = get_text_word(\"benchmarks/benchmarks/good_t_4.txt\", \"benchmarks/benchmarks/good_w_4.txt\")\n",
        "P = getNerestPrime(len(set(list(word))))\n",
        "\n",
        "print(nativeStringMatcher(text, word))\n",
        "print(RabinKarpNative(text, word))\n",
        "print(RabinKarpProgressive(text,word,P))\n",
        "print(KnutMorisPratt(text, word))\n",
        "\n",
        "\n",
        "print(check_time(nativeStringMatcher,text, word))\n",
        "print(check_time(RabinKarpNative,text, word))\n",
        "print(check_time(RabinKarpProgressive,text, word, P))\n",
        "print(check_time(KnutMorisPratt,text, word))"
      ]
    }
  ],
  "metadata": {
    "colab": {
      "collapsed_sections": [
        "BOOSiNs3vkDD",
        "MqkUDqQ2vpFH",
        "Ak9PDKrgxbMv"
      ],
      "provenance": []
    },
    "kernelspec": {
      "display_name": "Python 3",
      "name": "python3"
    },
    "language_info": {
      "name": "python"
    }
  },
  "nbformat": 4,
  "nbformat_minor": 0
}
